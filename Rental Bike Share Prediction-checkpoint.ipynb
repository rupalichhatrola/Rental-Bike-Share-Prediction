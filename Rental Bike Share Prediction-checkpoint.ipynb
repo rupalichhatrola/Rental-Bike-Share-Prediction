{
 "cells": [
  {
   "cell_type": "markdown",
   "id": "c8d14fe8",
   "metadata": {},
   "source": [
    "The objective of this Case is to Predication of bike rental count on daily based on the environmental and seasonal settings.\n",
    "\n"
   ]
  },
  {
   "cell_type": "markdown",
   "id": "2e434cc8",
   "metadata": {},
   "source": [
    "Contents :-\n",
    "\n",
    "    1. Exploratory Data Analysis\n",
    "       * Loading the dataset and libraries\n",
    "       * Data cleaning\n",
    "       * Typecasting the attributes\n",
    "       * Missing value analysis\n",
    "    2. Attributes distributions and trends\n",
    "       * Monthly distribution of counts\n",
    "       * Yearly distribution of counts\n",
    "       * Outliers analysis\n",
    "    3. Normality test\n",
    "    4. Correlation matrix \n",
    "    5. Split the dataset into train and test dataset\n",
    "    6. Encoding the categorical features\n",
    "    7. Modelling the training dataset\n",
    "       * Linear Regression Model\n",
    "       * Decision Tree Regressor Model\n",
    "       * Random Forest Model\n",
    "    8. Cross Validation Prediction\n",
    "       * Linear Regression CV Prediction\n",
    "       * Decision Tree Regressor CV Prediction\n",
    "       * Random Forest CV Prediction\n",
    "    9. Model performance on test dataset\n",
    "       * Linear Regression Prediction\n",
    "       * Decision Tree Regressor Prediction\n",
    "       * Random Forest Prediction\n",
    "    10. Model Evaluation Metrics\n",
    "       * R-squared score\n",
    "       * Root mean square error\n",
    "       * Mean absolute error\n",
    "    11.Choosing best model for predicting bike rental count\n"
   ]
  },
  {
   "cell_type": "markdown",
   "id": "08dee266",
   "metadata": {},
   "source": [
    "## Exploratory Data Analysis"
   ]
  },
  {
   "cell_type": "code",
   "execution_count": 24,
   "id": "51528ab6",
   "metadata": {},
   "outputs": [],
   "source": [
    "#Import the required libraries\n",
    "\n",
    "import seaborn as sns\n",
    "import pandas as pd\n",
    "import numpy as np\n",
    "import matplotlib.pyplot as plt\n",
    "%matplotlib inline\n",
    "import pickle\n",
    "import warnings\n",
    "warnings.filterwarnings('ignore')\n",
    "\n",
    "import os\n",
    "\n",
    "from sklearn.model_selection import train_test_split\n",
    "from sklearn.metrics import mean_squared_error, r2_score\n",
    "from math import sqrt"
   ]
  },
  {
   "cell_type": "code",
   "execution_count": 7,
   "id": "1ff93d44",
   "metadata": {},
   "outputs": [],
   "source": [
    "# reading the data\n",
    "\n",
    "df_hour = pd.read_csv(r'C:\\Users\\Rupali\\Downloads\\Bike-Sharing-Dataset/hour.csv')\n",
    "df_Days = pd.read_csv(r'C:\\Users\\Rupali\\Downloads\\Bike-Sharing-Dataset/day.csv')"
   ]
  },
  {
   "cell_type": "code",
   "execution_count": 8,
   "id": "687e2b63",
   "metadata": {},
   "outputs": [
    {
     "data": {
      "text/html": [
       "<div>\n",
       "<style scoped>\n",
       "    .dataframe tbody tr th:only-of-type {\n",
       "        vertical-align: middle;\n",
       "    }\n",
       "\n",
       "    .dataframe tbody tr th {\n",
       "        vertical-align: top;\n",
       "    }\n",
       "\n",
       "    .dataframe thead th {\n",
       "        text-align: right;\n",
       "    }\n",
       "</style>\n",
       "<table border=\"1\" class=\"dataframe\">\n",
       "  <thead>\n",
       "    <tr style=\"text-align: right;\">\n",
       "      <th></th>\n",
       "      <th>instant</th>\n",
       "      <th>dteday</th>\n",
       "      <th>season</th>\n",
       "      <th>yr</th>\n",
       "      <th>mnth</th>\n",
       "      <th>hr</th>\n",
       "      <th>holiday</th>\n",
       "      <th>weekday</th>\n",
       "      <th>workingday</th>\n",
       "      <th>weathersit</th>\n",
       "      <th>temp</th>\n",
       "      <th>atemp</th>\n",
       "      <th>hum</th>\n",
       "      <th>windspeed</th>\n",
       "      <th>casual</th>\n",
       "      <th>registered</th>\n",
       "      <th>cnt</th>\n",
       "    </tr>\n",
       "  </thead>\n",
       "  <tbody>\n",
       "    <tr>\n",
       "      <th>0</th>\n",
       "      <td>1</td>\n",
       "      <td>2011-01-01</td>\n",
       "      <td>1</td>\n",
       "      <td>0</td>\n",
       "      <td>1</td>\n",
       "      <td>0</td>\n",
       "      <td>0</td>\n",
       "      <td>6</td>\n",
       "      <td>0</td>\n",
       "      <td>1</td>\n",
       "      <td>0.24</td>\n",
       "      <td>0.2879</td>\n",
       "      <td>0.81</td>\n",
       "      <td>0.0</td>\n",
       "      <td>3</td>\n",
       "      <td>13</td>\n",
       "      <td>16</td>\n",
       "    </tr>\n",
       "    <tr>\n",
       "      <th>1</th>\n",
       "      <td>2</td>\n",
       "      <td>2011-01-01</td>\n",
       "      <td>1</td>\n",
       "      <td>0</td>\n",
       "      <td>1</td>\n",
       "      <td>1</td>\n",
       "      <td>0</td>\n",
       "      <td>6</td>\n",
       "      <td>0</td>\n",
       "      <td>1</td>\n",
       "      <td>0.22</td>\n",
       "      <td>0.2727</td>\n",
       "      <td>0.80</td>\n",
       "      <td>0.0</td>\n",
       "      <td>8</td>\n",
       "      <td>32</td>\n",
       "      <td>40</td>\n",
       "    </tr>\n",
       "    <tr>\n",
       "      <th>2</th>\n",
       "      <td>3</td>\n",
       "      <td>2011-01-01</td>\n",
       "      <td>1</td>\n",
       "      <td>0</td>\n",
       "      <td>1</td>\n",
       "      <td>2</td>\n",
       "      <td>0</td>\n",
       "      <td>6</td>\n",
       "      <td>0</td>\n",
       "      <td>1</td>\n",
       "      <td>0.22</td>\n",
       "      <td>0.2727</td>\n",
       "      <td>0.80</td>\n",
       "      <td>0.0</td>\n",
       "      <td>5</td>\n",
       "      <td>27</td>\n",
       "      <td>32</td>\n",
       "    </tr>\n",
       "    <tr>\n",
       "      <th>3</th>\n",
       "      <td>4</td>\n",
       "      <td>2011-01-01</td>\n",
       "      <td>1</td>\n",
       "      <td>0</td>\n",
       "      <td>1</td>\n",
       "      <td>3</td>\n",
       "      <td>0</td>\n",
       "      <td>6</td>\n",
       "      <td>0</td>\n",
       "      <td>1</td>\n",
       "      <td>0.24</td>\n",
       "      <td>0.2879</td>\n",
       "      <td>0.75</td>\n",
       "      <td>0.0</td>\n",
       "      <td>3</td>\n",
       "      <td>10</td>\n",
       "      <td>13</td>\n",
       "    </tr>\n",
       "    <tr>\n",
       "      <th>4</th>\n",
       "      <td>5</td>\n",
       "      <td>2011-01-01</td>\n",
       "      <td>1</td>\n",
       "      <td>0</td>\n",
       "      <td>1</td>\n",
       "      <td>4</td>\n",
       "      <td>0</td>\n",
       "      <td>6</td>\n",
       "      <td>0</td>\n",
       "      <td>1</td>\n",
       "      <td>0.24</td>\n",
       "      <td>0.2879</td>\n",
       "      <td>0.75</td>\n",
       "      <td>0.0</td>\n",
       "      <td>0</td>\n",
       "      <td>1</td>\n",
       "      <td>1</td>\n",
       "    </tr>\n",
       "  </tbody>\n",
       "</table>\n",
       "</div>"
      ],
      "text/plain": [
       "   instant      dteday  season  yr  mnth  hr  holiday  weekday  workingday  \\\n",
       "0        1  2011-01-01       1   0     1   0        0        6           0   \n",
       "1        2  2011-01-01       1   0     1   1        0        6           0   \n",
       "2        3  2011-01-01       1   0     1   2        0        6           0   \n",
       "3        4  2011-01-01       1   0     1   3        0        6           0   \n",
       "4        5  2011-01-01       1   0     1   4        0        6           0   \n",
       "\n",
       "   weathersit  temp   atemp   hum  windspeed  casual  registered  cnt  \n",
       "0           1  0.24  0.2879  0.81        0.0       3          13   16  \n",
       "1           1  0.22  0.2727  0.80        0.0       8          32   40  \n",
       "2           1  0.22  0.2727  0.80        0.0       5          27   32  \n",
       "3           1  0.24  0.2879  0.75        0.0       3          10   13  \n",
       "4           1  0.24  0.2879  0.75        0.0       0           1    1  "
      ]
     },
     "execution_count": 8,
     "metadata": {},
     "output_type": "execute_result"
    }
   ],
   "source": [
    "df_hour.head()"
   ]
  },
  {
   "cell_type": "code",
   "execution_count": 9,
   "id": "7f8bf159",
   "metadata": {},
   "outputs": [
    {
     "data": {
      "text/plain": [
       "Index(['instant', 'dteday', 'season', 'yr', 'mnth', 'hr', 'holiday', 'weekday',\n",
       "       'workingday', 'weathersit', 'temp', 'atemp', 'hum', 'windspeed',\n",
       "       'casual', 'registered', 'cnt'],\n",
       "      dtype='object')"
      ]
     },
     "execution_count": 9,
     "metadata": {},
     "output_type": "execute_result"
    }
   ],
   "source": [
    "df_hour.columns"
   ]
  },
  {
   "cell_type": "code",
   "execution_count": 12,
   "id": "746f8435",
   "metadata": {},
   "outputs": [
    {
     "data": {
      "text/html": [
       "<div>\n",
       "<style scoped>\n",
       "    .dataframe tbody tr th:only-of-type {\n",
       "        vertical-align: middle;\n",
       "    }\n",
       "\n",
       "    .dataframe tbody tr th {\n",
       "        vertical-align: top;\n",
       "    }\n",
       "\n",
       "    .dataframe thead th {\n",
       "        text-align: right;\n",
       "    }\n",
       "</style>\n",
       "<table border=\"1\" class=\"dataframe\">\n",
       "  <thead>\n",
       "    <tr style=\"text-align: right;\">\n",
       "      <th></th>\n",
       "      <th>instant</th>\n",
       "      <th>dteday</th>\n",
       "      <th>season</th>\n",
       "      <th>yr</th>\n",
       "      <th>mnth</th>\n",
       "      <th>holiday</th>\n",
       "      <th>weekday</th>\n",
       "      <th>workingday</th>\n",
       "      <th>weathersit</th>\n",
       "      <th>temp</th>\n",
       "      <th>atemp</th>\n",
       "      <th>hum</th>\n",
       "      <th>windspeed</th>\n",
       "      <th>casual</th>\n",
       "      <th>registered</th>\n",
       "      <th>cnt</th>\n",
       "    </tr>\n",
       "  </thead>\n",
       "  <tbody>\n",
       "    <tr>\n",
       "      <th>0</th>\n",
       "      <td>1</td>\n",
       "      <td>2011-01-01</td>\n",
       "      <td>1</td>\n",
       "      <td>0</td>\n",
       "      <td>1</td>\n",
       "      <td>0</td>\n",
       "      <td>6</td>\n",
       "      <td>0</td>\n",
       "      <td>2</td>\n",
       "      <td>0.344167</td>\n",
       "      <td>0.363625</td>\n",
       "      <td>0.805833</td>\n",
       "      <td>0.160446</td>\n",
       "      <td>331</td>\n",
       "      <td>654</td>\n",
       "      <td>985</td>\n",
       "    </tr>\n",
       "    <tr>\n",
       "      <th>1</th>\n",
       "      <td>2</td>\n",
       "      <td>2011-01-02</td>\n",
       "      <td>1</td>\n",
       "      <td>0</td>\n",
       "      <td>1</td>\n",
       "      <td>0</td>\n",
       "      <td>0</td>\n",
       "      <td>0</td>\n",
       "      <td>2</td>\n",
       "      <td>0.363478</td>\n",
       "      <td>0.353739</td>\n",
       "      <td>0.696087</td>\n",
       "      <td>0.248539</td>\n",
       "      <td>131</td>\n",
       "      <td>670</td>\n",
       "      <td>801</td>\n",
       "    </tr>\n",
       "    <tr>\n",
       "      <th>2</th>\n",
       "      <td>3</td>\n",
       "      <td>2011-01-03</td>\n",
       "      <td>1</td>\n",
       "      <td>0</td>\n",
       "      <td>1</td>\n",
       "      <td>0</td>\n",
       "      <td>1</td>\n",
       "      <td>1</td>\n",
       "      <td>1</td>\n",
       "      <td>0.196364</td>\n",
       "      <td>0.189405</td>\n",
       "      <td>0.437273</td>\n",
       "      <td>0.248309</td>\n",
       "      <td>120</td>\n",
       "      <td>1229</td>\n",
       "      <td>1349</td>\n",
       "    </tr>\n",
       "    <tr>\n",
       "      <th>3</th>\n",
       "      <td>4</td>\n",
       "      <td>2011-01-04</td>\n",
       "      <td>1</td>\n",
       "      <td>0</td>\n",
       "      <td>1</td>\n",
       "      <td>0</td>\n",
       "      <td>2</td>\n",
       "      <td>1</td>\n",
       "      <td>1</td>\n",
       "      <td>0.200000</td>\n",
       "      <td>0.212122</td>\n",
       "      <td>0.590435</td>\n",
       "      <td>0.160296</td>\n",
       "      <td>108</td>\n",
       "      <td>1454</td>\n",
       "      <td>1562</td>\n",
       "    </tr>\n",
       "    <tr>\n",
       "      <th>4</th>\n",
       "      <td>5</td>\n",
       "      <td>2011-01-05</td>\n",
       "      <td>1</td>\n",
       "      <td>0</td>\n",
       "      <td>1</td>\n",
       "      <td>0</td>\n",
       "      <td>3</td>\n",
       "      <td>1</td>\n",
       "      <td>1</td>\n",
       "      <td>0.226957</td>\n",
       "      <td>0.229270</td>\n",
       "      <td>0.436957</td>\n",
       "      <td>0.186900</td>\n",
       "      <td>82</td>\n",
       "      <td>1518</td>\n",
       "      <td>1600</td>\n",
       "    </tr>\n",
       "  </tbody>\n",
       "</table>\n",
       "</div>"
      ],
      "text/plain": [
       "   instant      dteday  season  yr  mnth  holiday  weekday  workingday  \\\n",
       "0        1  2011-01-01       1   0     1        0        6           0   \n",
       "1        2  2011-01-02       1   0     1        0        0           0   \n",
       "2        3  2011-01-03       1   0     1        0        1           1   \n",
       "3        4  2011-01-04       1   0     1        0        2           1   \n",
       "4        5  2011-01-05       1   0     1        0        3           1   \n",
       "\n",
       "   weathersit      temp     atemp       hum  windspeed  casual  registered  \\\n",
       "0           2  0.344167  0.363625  0.805833   0.160446     331         654   \n",
       "1           2  0.363478  0.353739  0.696087   0.248539     131         670   \n",
       "2           1  0.196364  0.189405  0.437273   0.248309     120        1229   \n",
       "3           1  0.200000  0.212122  0.590435   0.160296     108        1454   \n",
       "4           1  0.226957  0.229270  0.436957   0.186900      82        1518   \n",
       "\n",
       "    cnt  \n",
       "0   985  \n",
       "1   801  \n",
       "2  1349  \n",
       "3  1562  \n",
       "4  1600  "
      ]
     },
     "execution_count": 12,
     "metadata": {},
     "output_type": "execute_result"
    }
   ],
   "source": [
    "df_Days.head()"
   ]
  },
  {
   "cell_type": "code",
   "execution_count": 13,
   "id": "b6c5b367",
   "metadata": {},
   "outputs": [
    {
     "data": {
      "text/plain": [
       "Index(['instant', 'dteday', 'season', 'yr', 'mnth', 'holiday', 'weekday',\n",
       "       'workingday', 'weathersit', 'temp', 'atemp', 'hum', 'windspeed',\n",
       "       'casual', 'registered', 'cnt'],\n",
       "      dtype='object')"
      ]
     },
     "execution_count": 13,
     "metadata": {},
     "output_type": "execute_result"
    }
   ],
   "source": [
    "df_Days.columns"
   ]
  },
  {
   "cell_type": "code",
   "execution_count": 14,
   "id": "36d341e5",
   "metadata": {},
   "outputs": [
    {
     "data": {
      "text/plain": [
       "(731, 16)"
      ]
     },
     "execution_count": 14,
     "metadata": {},
     "output_type": "execute_result"
    }
   ],
   "source": [
    "#Shape of the dataset\n",
    "df_Days.shape"
   ]
  },
  {
   "cell_type": "code",
   "execution_count": 16,
   "id": "33a99623",
   "metadata": {},
   "outputs": [
    {
     "data": {
      "text/plain": [
       "instant         int64\n",
       "dteday         object\n",
       "season          int64\n",
       "yr              int64\n",
       "mnth            int64\n",
       "holiday         int64\n",
       "weekday         int64\n",
       "workingday      int64\n",
       "weathersit      int64\n",
       "temp          float64\n",
       "atemp         float64\n",
       "hum           float64\n",
       "windspeed     float64\n",
       "casual          int64\n",
       "registered      int64\n",
       "cnt             int64\n",
       "dtype: object"
      ]
     },
     "execution_count": 16,
     "metadata": {},
     "output_type": "execute_result"
    }
   ],
   "source": [
    "#Data types\n",
    "df_Days.dtypes "
   ]
  },
  {
   "cell_type": "markdown",
   "id": "2cb440d7",
   "metadata": {},
   "source": [
    "Rename the columns for better understanding of variables"
   ]
  },
  {
   "cell_type": "code",
   "execution_count": 18,
   "id": "80d0b2d9",
   "metadata": {},
   "outputs": [],
   "source": [
    "#Rename the columns\n",
    "df_Days.rename(columns={'instant':'rec_id','dteday':'datetime','yr':'year','mnth':'month','weathersit':'weather_condition',\n",
    "                       'hum':'humidity','cnt':'total_count'},inplace=True)"
   ]
  },
  {
   "cell_type": "code",
   "execution_count": 19,
   "id": "d108068f",
   "metadata": {},
   "outputs": [
    {
     "data": {
      "text/html": [
       "<div>\n",
       "<style scoped>\n",
       "    .dataframe tbody tr th:only-of-type {\n",
       "        vertical-align: middle;\n",
       "    }\n",
       "\n",
       "    .dataframe tbody tr th {\n",
       "        vertical-align: top;\n",
       "    }\n",
       "\n",
       "    .dataframe thead th {\n",
       "        text-align: right;\n",
       "    }\n",
       "</style>\n",
       "<table border=\"1\" class=\"dataframe\">\n",
       "  <thead>\n",
       "    <tr style=\"text-align: right;\">\n",
       "      <th></th>\n",
       "      <th>rec_id</th>\n",
       "      <th>datetime</th>\n",
       "      <th>season</th>\n",
       "      <th>year</th>\n",
       "      <th>month</th>\n",
       "      <th>holiday</th>\n",
       "      <th>weekday</th>\n",
       "      <th>workingday</th>\n",
       "      <th>weather_condition</th>\n",
       "      <th>temp</th>\n",
       "      <th>atemp</th>\n",
       "      <th>humidity</th>\n",
       "      <th>windspeed</th>\n",
       "      <th>casual</th>\n",
       "      <th>registered</th>\n",
       "      <th>total_count</th>\n",
       "    </tr>\n",
       "  </thead>\n",
       "  <tbody>\n",
       "    <tr>\n",
       "      <th>0</th>\n",
       "      <td>1</td>\n",
       "      <td>2011-01-01</td>\n",
       "      <td>1</td>\n",
       "      <td>0</td>\n",
       "      <td>1</td>\n",
       "      <td>0</td>\n",
       "      <td>6</td>\n",
       "      <td>0</td>\n",
       "      <td>2</td>\n",
       "      <td>0.344167</td>\n",
       "      <td>0.363625</td>\n",
       "      <td>0.805833</td>\n",
       "      <td>0.160446</td>\n",
       "      <td>331</td>\n",
       "      <td>654</td>\n",
       "      <td>985</td>\n",
       "    </tr>\n",
       "    <tr>\n",
       "      <th>1</th>\n",
       "      <td>2</td>\n",
       "      <td>2011-01-02</td>\n",
       "      <td>1</td>\n",
       "      <td>0</td>\n",
       "      <td>1</td>\n",
       "      <td>0</td>\n",
       "      <td>0</td>\n",
       "      <td>0</td>\n",
       "      <td>2</td>\n",
       "      <td>0.363478</td>\n",
       "      <td>0.353739</td>\n",
       "      <td>0.696087</td>\n",
       "      <td>0.248539</td>\n",
       "      <td>131</td>\n",
       "      <td>670</td>\n",
       "      <td>801</td>\n",
       "    </tr>\n",
       "    <tr>\n",
       "      <th>2</th>\n",
       "      <td>3</td>\n",
       "      <td>2011-01-03</td>\n",
       "      <td>1</td>\n",
       "      <td>0</td>\n",
       "      <td>1</td>\n",
       "      <td>0</td>\n",
       "      <td>1</td>\n",
       "      <td>1</td>\n",
       "      <td>1</td>\n",
       "      <td>0.196364</td>\n",
       "      <td>0.189405</td>\n",
       "      <td>0.437273</td>\n",
       "      <td>0.248309</td>\n",
       "      <td>120</td>\n",
       "      <td>1229</td>\n",
       "      <td>1349</td>\n",
       "    </tr>\n",
       "    <tr>\n",
       "      <th>3</th>\n",
       "      <td>4</td>\n",
       "      <td>2011-01-04</td>\n",
       "      <td>1</td>\n",
       "      <td>0</td>\n",
       "      <td>1</td>\n",
       "      <td>0</td>\n",
       "      <td>2</td>\n",
       "      <td>1</td>\n",
       "      <td>1</td>\n",
       "      <td>0.200000</td>\n",
       "      <td>0.212122</td>\n",
       "      <td>0.590435</td>\n",
       "      <td>0.160296</td>\n",
       "      <td>108</td>\n",
       "      <td>1454</td>\n",
       "      <td>1562</td>\n",
       "    </tr>\n",
       "    <tr>\n",
       "      <th>4</th>\n",
       "      <td>5</td>\n",
       "      <td>2011-01-05</td>\n",
       "      <td>1</td>\n",
       "      <td>0</td>\n",
       "      <td>1</td>\n",
       "      <td>0</td>\n",
       "      <td>3</td>\n",
       "      <td>1</td>\n",
       "      <td>1</td>\n",
       "      <td>0.226957</td>\n",
       "      <td>0.229270</td>\n",
       "      <td>0.436957</td>\n",
       "      <td>0.186900</td>\n",
       "      <td>82</td>\n",
       "      <td>1518</td>\n",
       "      <td>1600</td>\n",
       "    </tr>\n",
       "  </tbody>\n",
       "</table>\n",
       "</div>"
      ],
      "text/plain": [
       "   rec_id    datetime  season  year  month  holiday  weekday  workingday  \\\n",
       "0       1  2011-01-01       1     0      1        0        6           0   \n",
       "1       2  2011-01-02       1     0      1        0        0           0   \n",
       "2       3  2011-01-03       1     0      1        0        1           1   \n",
       "3       4  2011-01-04       1     0      1        0        2           1   \n",
       "4       5  2011-01-05       1     0      1        0        3           1   \n",
       "\n",
       "   weather_condition      temp     atemp  humidity  windspeed  casual  \\\n",
       "0                  2  0.344167  0.363625  0.805833   0.160446     331   \n",
       "1                  2  0.363478  0.353739  0.696087   0.248539     131   \n",
       "2                  1  0.196364  0.189405  0.437273   0.248309     120   \n",
       "3                  1  0.200000  0.212122  0.590435   0.160296     108   \n",
       "4                  1  0.226957  0.229270  0.436957   0.186900      82   \n",
       "\n",
       "   registered  total_count  \n",
       "0         654          985  \n",
       "1         670          801  \n",
       "2        1229         1349  \n",
       "3        1454         1562  \n",
       "4        1518         1600  "
      ]
     },
     "execution_count": 19,
     "metadata": {},
     "output_type": "execute_result"
    }
   ],
   "source": [
    "df_Days.head()"
   ]
  },
  {
   "cell_type": "code",
   "execution_count": 20,
   "id": "00f4e7a4",
   "metadata": {},
   "outputs": [],
   "source": [
    "#Type casting the datetime and numerical attributes to category\n",
    "\n",
    "df_Days['datetime']=pd.to_datetime(df_Days.datetime)\n",
    "\n",
    "df_Days['season']=df_Days.season.astype('category')\n",
    "df_Days['year']=df_Days.year.astype('category')\n",
    "df_Days['month']=df_Days.month.astype('category')\n",
    "df_Days['holiday']=df_Days.holiday.astype('category')\n",
    "df_Days['weekday']=df_Days.weekday.astype('category')\n",
    "df_Days['workingday']=df_Days.workingday.astype('category')\n",
    "df_Days['weather_condition']=df_Days.weather_condition.astype('category')"
   ]
  },
  {
   "cell_type": "code",
   "execution_count": 21,
   "id": "3a34a3a0",
   "metadata": {},
   "outputs": [
    {
     "data": {
      "text/html": [
       "<div>\n",
       "<style scoped>\n",
       "    .dataframe tbody tr th:only-of-type {\n",
       "        vertical-align: middle;\n",
       "    }\n",
       "\n",
       "    .dataframe tbody tr th {\n",
       "        vertical-align: top;\n",
       "    }\n",
       "\n",
       "    .dataframe thead th {\n",
       "        text-align: right;\n",
       "    }\n",
       "</style>\n",
       "<table border=\"1\" class=\"dataframe\">\n",
       "  <thead>\n",
       "    <tr style=\"text-align: right;\">\n",
       "      <th></th>\n",
       "      <th>rec_id</th>\n",
       "      <th>temp</th>\n",
       "      <th>atemp</th>\n",
       "      <th>humidity</th>\n",
       "      <th>windspeed</th>\n",
       "      <th>casual</th>\n",
       "      <th>registered</th>\n",
       "      <th>total_count</th>\n",
       "    </tr>\n",
       "  </thead>\n",
       "  <tbody>\n",
       "    <tr>\n",
       "      <th>count</th>\n",
       "      <td>731.000000</td>\n",
       "      <td>731.000000</td>\n",
       "      <td>731.000000</td>\n",
       "      <td>731.000000</td>\n",
       "      <td>731.000000</td>\n",
       "      <td>731.000000</td>\n",
       "      <td>731.000000</td>\n",
       "      <td>731.000000</td>\n",
       "    </tr>\n",
       "    <tr>\n",
       "      <th>mean</th>\n",
       "      <td>366.000000</td>\n",
       "      <td>0.495385</td>\n",
       "      <td>0.474354</td>\n",
       "      <td>0.627894</td>\n",
       "      <td>0.190486</td>\n",
       "      <td>848.176471</td>\n",
       "      <td>3656.172367</td>\n",
       "      <td>4504.348837</td>\n",
       "    </tr>\n",
       "    <tr>\n",
       "      <th>std</th>\n",
       "      <td>211.165812</td>\n",
       "      <td>0.183051</td>\n",
       "      <td>0.162961</td>\n",
       "      <td>0.142429</td>\n",
       "      <td>0.077498</td>\n",
       "      <td>686.622488</td>\n",
       "      <td>1560.256377</td>\n",
       "      <td>1937.211452</td>\n",
       "    </tr>\n",
       "    <tr>\n",
       "      <th>min</th>\n",
       "      <td>1.000000</td>\n",
       "      <td>0.059130</td>\n",
       "      <td>0.079070</td>\n",
       "      <td>0.000000</td>\n",
       "      <td>0.022392</td>\n",
       "      <td>2.000000</td>\n",
       "      <td>20.000000</td>\n",
       "      <td>22.000000</td>\n",
       "    </tr>\n",
       "    <tr>\n",
       "      <th>25%</th>\n",
       "      <td>183.500000</td>\n",
       "      <td>0.337083</td>\n",
       "      <td>0.337842</td>\n",
       "      <td>0.520000</td>\n",
       "      <td>0.134950</td>\n",
       "      <td>315.500000</td>\n",
       "      <td>2497.000000</td>\n",
       "      <td>3152.000000</td>\n",
       "    </tr>\n",
       "    <tr>\n",
       "      <th>50%</th>\n",
       "      <td>366.000000</td>\n",
       "      <td>0.498333</td>\n",
       "      <td>0.486733</td>\n",
       "      <td>0.626667</td>\n",
       "      <td>0.180975</td>\n",
       "      <td>713.000000</td>\n",
       "      <td>3662.000000</td>\n",
       "      <td>4548.000000</td>\n",
       "    </tr>\n",
       "    <tr>\n",
       "      <th>75%</th>\n",
       "      <td>548.500000</td>\n",
       "      <td>0.655417</td>\n",
       "      <td>0.608602</td>\n",
       "      <td>0.730209</td>\n",
       "      <td>0.233214</td>\n",
       "      <td>1096.000000</td>\n",
       "      <td>4776.500000</td>\n",
       "      <td>5956.000000</td>\n",
       "    </tr>\n",
       "    <tr>\n",
       "      <th>max</th>\n",
       "      <td>731.000000</td>\n",
       "      <td>0.861667</td>\n",
       "      <td>0.840896</td>\n",
       "      <td>0.972500</td>\n",
       "      <td>0.507463</td>\n",
       "      <td>3410.000000</td>\n",
       "      <td>6946.000000</td>\n",
       "      <td>8714.000000</td>\n",
       "    </tr>\n",
       "  </tbody>\n",
       "</table>\n",
       "</div>"
      ],
      "text/plain": [
       "           rec_id        temp       atemp    humidity   windspeed  \\\n",
       "count  731.000000  731.000000  731.000000  731.000000  731.000000   \n",
       "mean   366.000000    0.495385    0.474354    0.627894    0.190486   \n",
       "std    211.165812    0.183051    0.162961    0.142429    0.077498   \n",
       "min      1.000000    0.059130    0.079070    0.000000    0.022392   \n",
       "25%    183.500000    0.337083    0.337842    0.520000    0.134950   \n",
       "50%    366.000000    0.498333    0.486733    0.626667    0.180975   \n",
       "75%    548.500000    0.655417    0.608602    0.730209    0.233214   \n",
       "max    731.000000    0.861667    0.840896    0.972500    0.507463   \n",
       "\n",
       "            casual   registered  total_count  \n",
       "count   731.000000   731.000000   731.000000  \n",
       "mean    848.176471  3656.172367  4504.348837  \n",
       "std     686.622488  1560.256377  1937.211452  \n",
       "min       2.000000    20.000000    22.000000  \n",
       "25%     315.500000  2497.000000  3152.000000  \n",
       "50%     713.000000  3662.000000  4548.000000  \n",
       "75%    1096.000000  4776.500000  5956.000000  \n",
       "max    3410.000000  6946.000000  8714.000000  "
      ]
     },
     "execution_count": 21,
     "metadata": {},
     "output_type": "execute_result"
    }
   ],
   "source": [
    "#Summary of the dataset\n",
    "df_Days.describe()"
   ]
  },
  {
   "cell_type": "code",
   "execution_count": 22,
   "id": "d372e0d9",
   "metadata": {},
   "outputs": [
    {
     "data": {
      "text/plain": [
       "rec_id               0\n",
       "datetime             0\n",
       "season               0\n",
       "year                 0\n",
       "month                0\n",
       "holiday              0\n",
       "weekday              0\n",
       "workingday           0\n",
       "weather_condition    0\n",
       "temp                 0\n",
       "atemp                0\n",
       "humidity             0\n",
       "windspeed            0\n",
       "casual               0\n",
       "registered           0\n",
       "total_count          0\n",
       "dtype: int64"
      ]
     },
     "execution_count": 22,
     "metadata": {},
     "output_type": "execute_result"
    }
   ],
   "source": [
    "#Missing values in data\n",
    "df_Days.isnull().sum()"
   ]
  },
  {
   "cell_type": "markdown",
   "id": "bd535906",
   "metadata": {},
   "source": [
    "#### Attributes distributions and trends\n",
    "\n"
   ]
  },
  {
   "cell_type": "markdown",
   "id": "b18056e8",
   "metadata": {},
   "source": [
    "#### Monthly distribution of counts\n",
    "\n"
   ]
  },
  {
   "cell_type": "code",
   "execution_count": 25,
   "id": "697ddaaf",
   "metadata": {},
   "outputs": [
    {
     "data": {
      "image/png": "[encoded data removed]",
      "text/plain": [
       "<Figure size 1080x576 with 1 Axes>"
      ]
     },
     "metadata": {
      "needs_background": "light"
     },
     "output_type": "display_data"
    },
    {
     "data": {
      "image/png": "[encoded data removed]",
      "text/plain": [
       "<Figure size 1080x576 with 1 Axes>"
      ]
     },
     "metadata": {},
     "output_type": "display_data"
    }
   ],
   "source": [
    "fig,ax=plt.subplots(figsize=(15,8))\n",
    "sns.set_style('white')\n",
    "#Bar plot for seasonwise monthly distribution of counts\n",
    "sns.barplot(x='month',y='total_count',data=df_Days[['month','total_count','season']],hue='season',ax=ax)\n",
    "ax.set_title('Seasonwise monthly distribution of counts')\n",
    "plt.show()\n",
    "#Bar plot for weekday wise monthly distribution of counts\n",
    "fig,ax1=plt.subplots(figsize=(15,8))\n",
    "sns.barplot(x='month',y='total_count',data=df_Days[['month','total_count','weekday']],hue='weekday',ax=ax1)\n",
    "ax1.set_title('Weekday wise monthly distribution of counts')\n",
    "plt.show()\n"
   ]
  },
  {
   "cell_type": "markdown",
   "id": "0ebeec1b",
   "metadata": {},
   "source": [
    "From the above plots, we can observed that increasing the bike rental count in springe and summer season and then decreasing the bike rental count in fall and winter season. Here,\n",
    "\n",
    "season 1-> spring season 2 -> summer season 3 -> fall season 4 -> winter"
   ]
  },
  {
   "cell_type": "markdown",
   "id": "2c5314c0",
   "metadata": {},
   "source": [
    "#### Yearly wise distribution of counts\n",
    "\n"
   ]
  },
  {
   "cell_type": "code",
   "execution_count": 26,
   "id": "8295e455",
   "metadata": {},
   "outputs": [
    {
     "data": {
      "image/png": "[encoded data removed]",
      "text/plain": [
       "<Figure size 1080x576 with 1 Axes>"
      ]
     },
     "metadata": {},
     "output_type": "display_data"
    }
   ],
   "source": [
    "fig,ax=plt.subplots(figsize=(15,8))\n",
    "#Violin plot for yearly distribution of counts\n",
    "sns.violinplot(x='year',y='total_count',data=df_Days[['year','total_count']])\n",
    "ax.set_title('Yearly distribution of counts')\n",
    "plt.show()"
   ]
  },
  {
   "cell_type": "markdown",
   "id": "098e2353",
   "metadata": {},
   "source": [
    "From the violin plot, we can observed that the bike rental count distribution is highest in year 2012 then in year 2011.\n",
    "\n",
    "Here,\n",
    "year 0-> 2011, year 1-> 2012"
   ]
  },
  {
   "cell_type": "markdown",
   "id": "4d715cc1",
   "metadata": {},
   "source": [
    "#### Holiday wise distribution of counts"
   ]
  },
  {
   "cell_type": "code",
   "execution_count": 27,
   "id": "b1b0cb2b",
   "metadata": {},
   "outputs": [
    {
     "data": {
      "image/png": "[encoded data removed]",
      "text/plain": [
       "<Figure size 1080x576 with 1 Axes>"
      ]
     },
     "metadata": {},
     "output_type": "display_data"
    }
   ],
   "source": [
    "fig,ax=plt.subplots(figsize=(15,8))\n",
    "#Barplot for Holiday distribution of counts\n",
    "sns.barplot(data=df_Days,x='holiday',y='total_count',hue='season')\n",
    "ax.set_title('Holiday wise distribution of counts')\n",
    "plt.show()"
   ]
  },
  {
   "cell_type": "markdown",
   "id": "36461745",
   "metadata": {},
   "source": [
    "From the above bar plot, we can observed that during no holiday the bike rental counts is highest compared to during holiday for different seasons.\n",
    "\n",
    "Here, 0->No holiday, 1-> holiday"
   ]
  },
  {
   "cell_type": "markdown",
   "id": "50c3e3fb",
   "metadata": {},
   "source": [
    "#### Workingday wise distribution of counts\n",
    "\n"
   ]
  },
  {
   "cell_type": "code",
   "execution_count": 28,
   "id": "67b4e843",
   "metadata": {},
   "outputs": [
    {
     "data": {
      "image/png": "[encoded data removed]",
      "text/plain": [
       "<Figure size 1080x576 with 1 Axes>"
      ]
     },
     "metadata": {},
     "output_type": "display_data"
    }
   ],
   "source": [
    "fig,ax=plt.subplots(figsize=(15,8))\n",
    "#Bar plot for workingday distribution of counts\n",
    "sns.barplot(data=df_Days,x='workingday',y='total_count',hue='season')\n",
    "ax.set_title('Workingday wise distribution of counts')\n",
    "plt.show()\n"
   ]
  },
  {
   "cell_type": "markdown",
   "id": "5c397811",
   "metadata": {},
   "source": [
    "From the above bar plot, we can observed that during workingday the bike rental counts is quite highest compared to during no workingday for different seasons.\n",
    "\n",
    "Here, 0-> No workingday, 1-> workingday"
   ]
  },
  {
   "cell_type": "markdown",
   "id": "aa5f47ae",
   "metadata": {},
   "source": [
    "#### Weather_condition distribution of counts\n",
    "\n"
   ]
  },
  {
   "cell_type": "code",
   "execution_count": 29,
   "id": "389813ee",
   "metadata": {},
   "outputs": [
    {
     "data": {
      "image/png": "[encoded data removed]",
      "text/plain": [
       "<Figure size 1080x576 with 1 Axes>"
      ]
     },
     "metadata": {},
     "output_type": "display_data"
    }
   ],
   "source": [
    "fig,ax1=plt.subplots(figsize=(15,8))\n",
    "#Bar plot for weather_condition distribution of counts\n",
    "sns.barplot(x='weather_condition',y='total_count',data=df_Days[['month','total_count','weather_condition']],ax=ax1)\n",
    "ax1.set_title('Weather_condition wise monthly distribution of counts')\n",
    "plt.show()"
   ]
  },
  {
   "cell_type": "markdown",
   "id": "7ca3b69f",
   "metadata": {},
   "source": [
    "From the above bar plot, we can observed that during clear,partly cloudy weather the bike rental count is highest and the second highest is during mist cloudy weather and followed by third highest during light snow and light rain weather."
   ]
  },
  {
   "cell_type": "markdown",
   "id": "21b9f5e4",
   "metadata": {},
   "source": [
    "## Outlier analysis\n",
    "\n"
   ]
  },
  {
   "cell_type": "code",
   "execution_count": 30,
   "id": "d9281fe1",
   "metadata": {},
   "outputs": [
    {
     "data": {
      "image/png": "[encoded data removed]",
      "text/plain": [
       "<Figure size 1080x576 with 1 Axes>"
      ]
     },
     "metadata": {},
     "output_type": "display_data"
    }
   ],
   "source": [
    "#Total_Count_Outliers\n",
    "\n",
    "fig,ax=plt.subplots(figsize=(15,8))\n",
    "#Boxplot for total_count outliers\n",
    "sns.boxplot(data=df_Days[['total_count']])\n",
    "ax.set_title('total_count outliers')\n",
    "plt.show()\n"
   ]
  },
  {
   "cell_type": "markdown",
   "id": "feb45087",
   "metadata": {},
   "source": [
    "From the box plot, we can observed that no outliers are present in total_count variable.\n",
    "\n"
   ]
  },
  {
   "cell_type": "code",
   "execution_count": 31,
   "id": "0e6488a2",
   "metadata": {},
   "outputs": [
    {
     "data": {
      "image/png": "[encoded data removed]",
      "text/plain": [
       "<Figure size 1080x576 with 1 Axes>"
      ]
     },
     "metadata": {},
     "output_type": "display_data"
    }
   ],
   "source": [
    "#Temp_windspeed_humidity_outliers\n",
    "\n",
    "fig,ax=plt.subplots(figsize=(15,8))\n",
    "#Box plot for Temp_windspeed_humidity_outliers\n",
    "sns.boxplot(data=df_Days[['temp','windspeed','humidity']])\n",
    "ax.set_title('Temp_windspeed_humidity_outiers')\n",
    "plt.show()"
   ]
  },
  {
   "cell_type": "markdown",
   "id": "119a36d1",
   "metadata": {},
   "source": [
    "From the box plot, we can observed that no outliers are present in normalized temp but few outliers are present in normalized windspeed and humidity variable.\n",
    "\n"
   ]
  },
  {
   "cell_type": "markdown",
   "id": "09c31af7",
   "metadata": {},
   "source": [
    "### Normal Probability Plot\n",
    "\n"
   ]
  },
  {
   "cell_type": "markdown",
   "id": "b6dcf3e1",
   "metadata": {},
   "source": [
    "Normal probability plot is a graphical technique to identify substantive departures from normality and also it tells about goodness of fit.\n",
    "\n"
   ]
  },
  {
   "cell_type": "code",
   "execution_count": 34,
   "id": "06e822e1",
   "metadata": {},
   "outputs": [
    {
     "data": {
      "image/png": "[encoded data removed]",
      "text/plain": [
       "<Figure size 1080x576 with 1 Axes>"
      ]
     },
     "metadata": {},
     "output_type": "display_data"
    }
   ],
   "source": [
    "import scipy\n",
    "from scipy import stats\n",
    "#Normal plot\n",
    "fig=plt.figure(figsize=(15,8))\n",
    "stats.probplot(df_Days.total_count.tolist(),dist='norm',plot=plt)\n",
    "plt.show()\n"
   ]
  },
  {
   "cell_type": "markdown",
   "id": "df5f4483",
   "metadata": {},
   "source": [
    "The above probability plot, the some target variable data points are deviates from normality.\n",
    "\n"
   ]
  },
  {
   "cell_type": "markdown",
   "id": "f30f4bc1",
   "metadata": {},
   "source": [
    "### Correlation matrix\n",
    "\n",
    "Correlation matrix is tells about linear relationship between attributes and help us to build better models."
   ]
  },
  {
   "cell_type": "code",
   "execution_count": 35,
   "id": "058fc3c2",
   "metadata": {},
   "outputs": [
    {
     "data": {
      "image/png": "[encoded data removed]",
      "text/plain": [
       "<Figure size 1080x576 with 2 Axes>"
      ]
     },
     "metadata": {},
     "output_type": "display_data"
    }
   ],
   "source": [
    "#Create the correlation matrix\n",
    "correMtr=df_Days[[\"temp\",\"atemp\",\"humidity\",\"windspeed\",\"casual\",\"registered\",\"total_count\"]].corr()\n",
    "mask=np.array(correMtr)\n",
    "mask[np.tril_indices_from(mask)]=False\n",
    "#Heat map for correlation matrix of attributes\n",
    "fig,ax=plt.subplots(figsize=(15,8))\n",
    "sns.heatmap(correMtr,mask=mask,vmax=0.8,square=True,annot=True,ax=ax)\n",
    "ax.set_title('Correlation matrix of attributes')\n",
    "plt.show()"
   ]
  },
  {
   "cell_type": "markdown",
   "id": "531a78af",
   "metadata": {},
   "source": [
    "From correlation plot, we can observed that some features are positively correlated or some are negatively correlated to each other. The temp and atemp are highly positively correlated to each other, it means that both are carrying same information.The total_count,casual and registered are highly positively correlated to each other. So, we are going to ignore atemp,casual and registered variable for further analysis.\n",
    "\n"
   ]
  },
  {
   "cell_type": "markdown",
   "id": "863935df",
   "metadata": {},
   "source": [
    "## Modelling the dataset\n",
    "\n"
   ]
  },
  {
   "cell_type": "code",
   "execution_count": 36,
   "id": "5c6328b1",
   "metadata": {},
   "outputs": [],
   "source": [
    "#load the required libraries\n",
    "from sklearn import preprocessing,metrics,linear_model\n",
    "from sklearn.model_selection import cross_val_score,cross_val_predict,train_test_split\n"
   ]
  },
  {
   "cell_type": "markdown",
   "id": "8ec0dad5",
   "metadata": {},
   "source": [
    "Split the dataset into train and test in the ratio of 70:30\n",
    "\n"
   ]
  },
  {
   "cell_type": "code",
   "execution_count": 37,
   "id": "167d201f",
   "metadata": {},
   "outputs": [
    {
     "name": "stdout",
     "output_type": "stream",
     "text": [
      "(511, 14) (220, 14) (511, 2) (220, 2)\n",
      "   index  total_count\n",
      "0    223         4905\n",
      "1    684         5445\n",
      "2    685         5698\n",
      "3    163         5020\n",
      "4    394         3624\n",
      "   index  total_count\n",
      "0    703         6606\n",
      "1     33         1550\n",
      "2    300         3747\n",
      "3    456         6041\n",
      "4    633         7538\n"
     ]
    }
   ],
   "source": [
    "#Split the dataset into the train and test data\n",
    "from sklearn.model_selection import train_test_split\n",
    "X_train,X_test,y_train,y_test=train_test_split(df_Days.iloc[:,0:-3],df_Days.iloc[:,-1],test_size=0.3, random_state=42)\n",
    "\n",
    "#Reset train index values\n",
    "X_train.reset_index(inplace=True)\n",
    "y_train=y_train.reset_index()\n",
    "\n",
    "# Reset train index values\n",
    "X_test.reset_index(inplace=True)\n",
    "y_test=y_test.reset_index()\n",
    "\n",
    "print(X_train.shape,X_test.shape,y_train.shape,y_test.shape)\n",
    "print(y_train.head())\n",
    "print(y_test.head())"
   ]
  },
  {
   "cell_type": "markdown",
   "id": "ab335d53",
   "metadata": {},
   "source": [
    "#### Split the features into categorical and numerical features\n",
    "\n"
   ]
  },
  {
   "cell_type": "code",
   "execution_count": 38,
   "id": "abc32898",
   "metadata": {},
   "outputs": [],
   "source": [
    "#Create a new dataset for train attributes\n",
    "train_attributes=X_train[['season','month','year','weekday','holiday','workingday','weather_condition','humidity','temp','windspeed']]\n",
    "#Create a new dataset for test attributes\n",
    "test_attributes=X_test[['season','month','year','weekday','holiday','workingday','humidity','temp','windspeed','weather_condition']]\n",
    "#categorical attributes\n",
    "cat_attributes=['season','holiday','workingday','weather_condition','year']\n",
    "#numerical attributes\n",
    "num_attributes=['temp','windspeed','humidity','month','weekday']"
   ]
  },
  {
   "cell_type": "markdown",
   "id": "662779d6",
   "metadata": {},
   "source": [
    "#### Decoding the training attributes\n",
    "\n"
   ]
  },
  {
   "cell_type": "code",
   "execution_count": 39,
   "id": "d308870f",
   "metadata": {},
   "outputs": [
    {
     "name": "stdout",
     "output_type": "stream",
     "text": [
      "Shape of transfomed dataframe:: (511, 18)\n"
     ]
    },
    {
     "data": {
      "text/html": [
       "<div>\n",
       "<style scoped>\n",
       "    .dataframe tbody tr th:only-of-type {\n",
       "        vertical-align: middle;\n",
       "    }\n",
       "\n",
       "    .dataframe tbody tr th {\n",
       "        vertical-align: top;\n",
       "    }\n",
       "\n",
       "    .dataframe thead th {\n",
       "        text-align: right;\n",
       "    }\n",
       "</style>\n",
       "<table border=\"1\" class=\"dataframe\">\n",
       "  <thead>\n",
       "    <tr style=\"text-align: right;\">\n",
       "      <th></th>\n",
       "      <th>month</th>\n",
       "      <th>weekday</th>\n",
       "      <th>humidity</th>\n",
       "      <th>temp</th>\n",
       "      <th>windspeed</th>\n",
       "      <th>season_1</th>\n",
       "      <th>season_2</th>\n",
       "      <th>season_3</th>\n",
       "      <th>season_4</th>\n",
       "      <th>holiday_0</th>\n",
       "      <th>holiday_1</th>\n",
       "      <th>workingday_0</th>\n",
       "      <th>workingday_1</th>\n",
       "      <th>weather_condition_1</th>\n",
       "      <th>weather_condition_2</th>\n",
       "      <th>weather_condition_3</th>\n",
       "      <th>year_0</th>\n",
       "      <th>year_1</th>\n",
       "    </tr>\n",
       "  </thead>\n",
       "  <tbody>\n",
       "    <tr>\n",
       "      <th>0</th>\n",
       "      <td>8</td>\n",
       "      <td>5</td>\n",
       "      <td>0.415000</td>\n",
       "      <td>0.708333</td>\n",
       "      <td>0.125621</td>\n",
       "      <td>0</td>\n",
       "      <td>0</td>\n",
       "      <td>1</td>\n",
       "      <td>0</td>\n",
       "      <td>1</td>\n",
       "      <td>0</td>\n",
       "      <td>0</td>\n",
       "      <td>1</td>\n",
       "      <td>1</td>\n",
       "      <td>0</td>\n",
       "      <td>0</td>\n",
       "      <td>1</td>\n",
       "      <td>0</td>\n",
       "    </tr>\n",
       "    <tr>\n",
       "      <th>1</th>\n",
       "      <td>11</td>\n",
       "      <td>4</td>\n",
       "      <td>0.620417</td>\n",
       "      <td>0.321667</td>\n",
       "      <td>0.152987</td>\n",
       "      <td>0</td>\n",
       "      <td>0</td>\n",
       "      <td>0</td>\n",
       "      <td>1</td>\n",
       "      <td>1</td>\n",
       "      <td>0</td>\n",
       "      <td>0</td>\n",
       "      <td>1</td>\n",
       "      <td>0</td>\n",
       "      <td>1</td>\n",
       "      <td>0</td>\n",
       "      <td>0</td>\n",
       "      <td>1</td>\n",
       "    </tr>\n",
       "    <tr>\n",
       "      <th>2</th>\n",
       "      <td>11</td>\n",
       "      <td>5</td>\n",
       "      <td>0.524583</td>\n",
       "      <td>0.345000</td>\n",
       "      <td>0.171025</td>\n",
       "      <td>0</td>\n",
       "      <td>0</td>\n",
       "      <td>0</td>\n",
       "      <td>1</td>\n",
       "      <td>1</td>\n",
       "      <td>0</td>\n",
       "      <td>0</td>\n",
       "      <td>1</td>\n",
       "      <td>1</td>\n",
       "      <td>0</td>\n",
       "      <td>0</td>\n",
       "      <td>0</td>\n",
       "      <td>1</td>\n",
       "    </tr>\n",
       "    <tr>\n",
       "      <th>3</th>\n",
       "      <td>6</td>\n",
       "      <td>1</td>\n",
       "      <td>0.494583</td>\n",
       "      <td>0.635000</td>\n",
       "      <td>0.305350</td>\n",
       "      <td>0</td>\n",
       "      <td>1</td>\n",
       "      <td>0</td>\n",
       "      <td>0</td>\n",
       "      <td>1</td>\n",
       "      <td>0</td>\n",
       "      <td>0</td>\n",
       "      <td>1</td>\n",
       "      <td>1</td>\n",
       "      <td>0</td>\n",
       "      <td>0</td>\n",
       "      <td>1</td>\n",
       "      <td>0</td>\n",
       "    </tr>\n",
       "    <tr>\n",
       "      <th>4</th>\n",
       "      <td>1</td>\n",
       "      <td>1</td>\n",
       "      <td>0.400833</td>\n",
       "      <td>0.269167</td>\n",
       "      <td>0.215792</td>\n",
       "      <td>1</td>\n",
       "      <td>0</td>\n",
       "      <td>0</td>\n",
       "      <td>0</td>\n",
       "      <td>1</td>\n",
       "      <td>0</td>\n",
       "      <td>0</td>\n",
       "      <td>1</td>\n",
       "      <td>1</td>\n",
       "      <td>0</td>\n",
       "      <td>0</td>\n",
       "      <td>0</td>\n",
       "      <td>1</td>\n",
       "    </tr>\n",
       "  </tbody>\n",
       "</table>\n",
       "</div>"
      ],
      "text/plain": [
       "  month weekday  humidity      temp  windspeed  season_1  season_2  season_3  \\\n",
       "0     8       5  0.415000  0.708333   0.125621         0         0         1   \n",
       "1    11       4  0.620417  0.321667   0.152987         0         0         0   \n",
       "2    11       5  0.524583  0.345000   0.171025         0         0         0   \n",
       "3     6       1  0.494583  0.635000   0.305350         0         1         0   \n",
       "4     1       1  0.400833  0.269167   0.215792         1         0         0   \n",
       "\n",
       "   season_4  holiday_0  holiday_1  workingday_0  workingday_1  \\\n",
       "0         0          1          0             0             1   \n",
       "1         1          1          0             0             1   \n",
       "2         1          1          0             0             1   \n",
       "3         0          1          0             0             1   \n",
       "4         0          1          0             0             1   \n",
       "\n",
       "   weather_condition_1  weather_condition_2  weather_condition_3  year_0  \\\n",
       "0                    1                    0                    0       1   \n",
       "1                    0                    1                    0       0   \n",
       "2                    1                    0                    0       0   \n",
       "3                    1                    0                    0       1   \n",
       "4                    1                    0                    0       0   \n",
       "\n",
       "   year_1  \n",
       "0       0  \n",
       "1       1  \n",
       "2       1  \n",
       "3       0  \n",
       "4       1  "
      ]
     },
     "execution_count": 39,
     "metadata": {},
     "output_type": "execute_result"
    }
   ],
   "source": [
    "#To get dummy variables to encode the categorical features to numeric\n",
    "train_encoded_attributes=pd.get_dummies(train_attributes,columns=cat_attributes)\n",
    "print('Shape of transfomed dataframe::',train_encoded_attributes.shape)\n",
    "train_encoded_attributes.head(5)"
   ]
  },
  {
   "cell_type": "code",
   "execution_count": 40,
   "id": "3e0b9efd",
   "metadata": {},
   "outputs": [],
   "source": [
    "#Training dataset for modelling\n",
    "X_train=train_encoded_attributes\n",
    "y_train=y_train.total_count.values"
   ]
  },
  {
   "cell_type": "markdown",
   "id": "364d7102",
   "metadata": {},
   "source": [
    "## Linear Regression Model\n",
    "\n"
   ]
  },
  {
   "cell_type": "code",
   "execution_count": 41,
   "id": "d8180b89",
   "metadata": {},
   "outputs": [
    {
     "data": {
      "text/plain": [
       "LinearRegression()"
      ]
     },
     "execution_count": 41,
     "metadata": {},
     "output_type": "execute_result"
    }
   ],
   "source": [
    "#training model\n",
    "lr_model=linear_model.LinearRegression()\n",
    "lr_model\n"
   ]
  },
  {
   "cell_type": "code",
   "execution_count": 42,
   "id": "75e5ffe0",
   "metadata": {},
   "outputs": [
    {
     "data": {
      "text/plain": [
       "LinearRegression()"
      ]
     },
     "execution_count": 42,
     "metadata": {},
     "output_type": "execute_result"
    }
   ],
   "source": [
    "#fit the trained model\n",
    "lr_model.fit(X_train,y_train)"
   ]
  },
  {
   "cell_type": "code",
   "execution_count": 43,
   "id": "cc2662ba",
   "metadata": {},
   "outputs": [
    {
     "name": "stdout",
     "output_type": "stream",
     "text": [
      "Accuracy of the model : 0.8164644195384456\n",
      "Model coefficients : [  -25.67964022    69.04524677  -946.11648038  5226.31938879\n",
      " -2526.83165381  -960.7979661    233.21695025   -71.46895155\n",
      "   799.0499674    228.88041979  -228.88041979   -78.248613\n",
      "    78.248613     791.45676629   269.60191415 -1061.05868044\n",
      "  -991.62009894   991.62009894]\n",
      "Model intercept value : 2138.049981950788\n"
     ]
    }
   ],
   "source": [
    "#Accuracy of the model\n",
    "lr=lr_model.score(X_train,y_train)\n",
    "print('Accuracy of the model :',lr)\n",
    "print('Model coefficients :',lr_model.coef_)\n",
    "print('Model intercept value :',lr_model.intercept_)"
   ]
  },
  {
   "cell_type": "code",
   "execution_count": 44,
   "id": "2f9093a7",
   "metadata": {},
   "outputs": [
    {
     "data": {
      "text/plain": [
       "array([ 5248.7578435 ,  5038.5615668 ,  5806.79339316,  4353.94868702,\n",
       "        3738.02165465,  6781.13199665,  6258.53686563,  3802.32154757,\n",
       "        4679.69060739,  3413.26938345,  5382.26926795,  3103.26413427,\n",
       "        4340.14502978,  5792.02135524,  4357.90482085,  6307.47067538,\n",
       "        4382.53420011,  3356.51602988,   722.55880035,   542.99629923,\n",
       "        7419.07107033,  3747.2639444 ,  5282.38323084,  5494.01243603,\n",
       "        6941.05375802,  7322.95928003,  3629.5886932 ,  3571.12912785,\n",
       "         985.45343201,  4884.05952005,  1644.73801661,  1708.88196943,\n",
       "        1689.90104258,  1295.63879625,  4891.47726849,  5507.81236621,\n",
       "        6015.17425095,  4180.63057735,  5075.38404498,  5941.56769703,\n",
       "        6400.40498745,  4215.81855312,  5962.38814912,  6052.71452714,\n",
       "        3345.73314148,  4096.72004817,  1465.44713372,  3603.17274178,\n",
       "        4587.89942466,  6650.65699064,  1719.93360965,  6128.15135134,\n",
       "        6439.33525805,  3277.84008997,  4592.0786174 ,  3194.61235   ,\n",
       "        1039.88280183,  2100.09613678,   674.30772486,  5224.66730386,\n",
       "        5314.19870803,  4911.06477305,  3739.39082172,  6130.33989227,\n",
       "        5968.45404858,  6295.95877962,  3954.66011045,  3161.72304418,\n",
       "        3512.46233642,  4003.13186901,  2093.3677567 ,  3827.30167223,\n",
       "        6815.93521048,  4135.6591103 ,  4774.56844943,  2452.30835041,\n",
       "        3534.02173852,  4559.07413217,   559.2789428 ,  3780.96495495,\n",
       "        4209.2573621 ,  5018.8490244 ,  4014.31054791,  2522.05802453,\n",
       "        6379.32086471,  3758.08076547,  3963.70346595,  6857.23289985,\n",
       "        4468.69327818,  3646.68591468,  1679.07590025,  3349.16374649,\n",
       "        1413.84032115,  6584.71977541,  6228.8522581 ,  4525.24989433,\n",
       "        3621.41590824,  5024.80981436,  3158.99701117,  1894.42556815,\n",
       "        2661.69174676,  3782.07824139,  5688.56741915,  4854.81563596,\n",
       "        3433.99423773,  6034.8877613 ,  6487.83242733,  7001.6389009 ,\n",
       "        4472.20009687,  6364.06616143,  3206.63812555,  3884.45830175,\n",
       "        1964.66801377,  3320.10969996,  4768.11361833,  2609.16521029,\n",
       "        5948.87053442,  4102.45821637,  1609.40133185,  2709.63783098,\n",
       "        4492.38383371,  3433.58537988,  4832.22105954,  5668.91506398,\n",
       "        6696.47683976,  5999.3365819 ,  4876.9804128 ,  3844.07111493,\n",
       "        7119.74773459,  4288.23361221,  6092.17812689,  4495.4422446 ,\n",
       "        3748.14881943,  6235.51941401,  6940.0886107 ,  5138.70260425,\n",
       "        4072.15746453,  5393.17403548,  4055.88151468,  2901.38279759,\n",
       "        7090.36866639,  3530.06748949,  3437.89836177,  5357.35803769,\n",
       "        3737.56116112,  4343.07354639,  4130.62547043,  2784.12775673,\n",
       "        1262.95634462,  4957.2337275 ,  7131.81091712,  4025.9618221 ,\n",
       "        6272.927947  ,  1121.76529347,  3894.19289799,  1412.23346792,\n",
       "       -1080.60059589,  7343.9965627 ,  4420.96119647,  1043.93191501,\n",
       "        7122.93902903,  4693.44706057,  3743.25298687,  5276.11451025,\n",
       "        4774.84841795,  5149.25360319,  4435.40472163,  6435.05522501,\n",
       "        3083.62731793,  4516.24346931,  3545.50138165,  4909.22732045,\n",
       "        4252.53751345,  1126.81350882,  6181.04950263,  1761.23647304,\n",
       "        6115.1475864 ,  5069.73181108,  4821.81692302,   840.63733012,\n",
       "        5931.6494746 ,  3666.2523984 ,  4423.08013123,  3062.02573944,\n",
       "        1297.93986711,  4585.97663884,  5389.72329221,  5321.01329385,\n",
       "        4321.77942268,  2824.61235309,  4967.27101696,  1079.837322  ,\n",
       "        3189.64891191,  7541.76637869,  5448.85391057,  6856.08497601,\n",
       "        6549.52387812,  5829.35395217,  1821.2465006 ,  5405.61603446,\n",
       "        1726.35624964,  6579.29957877,  7551.52528647,  4016.08933863,\n",
       "         275.16035649,  2969.13540126,  5317.53538753,  4970.26109579,\n",
       "        1481.48779005,  6976.99835452,  6783.08112087,  3808.40638471,\n",
       "        5160.80183776,  4288.99363515,  4075.17773534,  4421.22049504,\n",
       "        5992.20313997,  3417.39782427,  1574.20789082,  7125.72553173,\n",
       "        3632.14342912,  4999.95900239,  1510.32188131,  1973.68115365,\n",
       "        4688.22098856,  1867.37128556,  5154.20256989,  4915.95879725,\n",
       "        4881.34388452,  3916.77480726,  4323.46548599,  3748.5389563 ,\n",
       "        4689.80886887,  6398.16578845,  4173.80409036,  6912.69539657,\n",
       "        4708.32560811,  6637.7234332 ,  6122.57193293,  5190.44014667,\n",
       "        6700.86202056,  6158.22634145,  5597.71357064,  7217.26616722,\n",
       "        6192.72325163,  1131.28000318,  5786.07973736,  5116.07738941,\n",
       "        5065.57819194,  5787.4024731 ,  4630.04351104,  3541.17313124,\n",
       "        5040.56154026,  5820.52843932,  3783.37201873,  3513.9237223 ,\n",
       "        6627.76540663,  6149.25568785,  5319.81652054,  6914.82736033,\n",
       "        6506.36199391,  2899.47995445,  4322.56807613,  6921.01051626,\n",
       "        6478.17785848,  4385.89027797,  3547.85486798,  3810.88714893,\n",
       "        6875.07011249,  6688.8923904 ,  1496.93645769,  4424.95201899,\n",
       "        2332.70579132,  6107.46982278,  3996.78948153,  1902.44940367,\n",
       "        4851.08165036,  3235.20735487,  5281.84213324,  5295.23051031,\n",
       "        6603.94698895,  6427.34304482,  6765.05925139,  5902.86344943,\n",
       "         511.17544881,  6483.81666896,  5841.95393123,  6799.83183618,\n",
       "        1549.99415784,  6124.37766131,  4549.42273189,  4118.84928806,\n",
       "        3846.63870522,  7716.87269537,  7071.42067799,  5831.86167556,\n",
       "        3355.8346255 ,  4460.52494527,  2843.33620829,  5633.26794442,\n",
       "        7133.94372888,  6687.71494735,  6066.55836326,  4652.69705476,\n",
       "        5042.19382689,  7097.82902416,  4934.86588955,  7190.35001209,\n",
       "        3534.72053505,  6061.34581465,  2337.54305673,  4807.15852392,\n",
       "        2895.07090417,  6566.30473669,  4275.52578665,  4799.56584927,\n",
       "        4293.74803493,  5059.05086423,  4324.48483528,  2793.15658629,\n",
       "        3811.32588217,  3738.11400788,  5697.2371383 ,  5450.42056171,\n",
       "        4158.43601692,  3232.32634531,  5686.16473112,  4603.11668529,\n",
       "        4328.06518341,  6480.61935567,  4235.27505784,  4935.97564383,\n",
       "        5773.89803176,  6432.73615948,  5062.82043016,  5722.08037251,\n",
       "        2180.52947557,  5317.28327126,  6987.17391817,  4432.11395944,\n",
       "        4330.60792074,  6490.45614138,  3086.64839786,  4095.5623481 ,\n",
       "        7121.46370075,  3057.05903083,  4464.86297673,  6805.23611332,\n",
       "        4262.77138102,  4361.84360205,  5949.35264451,  1225.20180735,\n",
       "        3255.49157064,  4467.91247103,  3918.94054414,  3360.148994  ,\n",
       "        4182.16536407,  5063.24510371,  5634.1995691 ,  6524.43898756,\n",
       "        3337.90236051,  6131.51334928,  5242.143623  ,  5288.26251213,\n",
       "        6570.3005703 ,  6271.60433579,  5681.52518649,  6360.36678377,\n",
       "        6732.07664258,  1875.53038882,  4873.1499881 ,  5550.83550182,\n",
       "        7195.46269448,  1055.59266582,  6854.90794602,  4077.47583359,\n",
       "        5346.17003527,  5726.08460146,  6127.14387398,  3381.11028878,\n",
       "        7675.17779764,  4394.86523773,  7308.78809171,  5891.52829448,\n",
       "        8018.57653867,  5094.94777078,  5188.49445835,  4230.15975839,\n",
       "        4101.83841181,  5779.2104082 ,  4286.11645294,  1827.85072818,\n",
       "        6307.16756101,  6503.66708545,  7387.63745833,  2699.05630541,\n",
       "        7555.02435571,  1405.30028929,  6600.27800324,  2905.75004492,\n",
       "         946.72927144,  5342.79773559,  3314.72008333,  1218.85086105,\n",
       "        7154.98186678,  4454.59202855,  6864.271285  ,  3604.28168767,\n",
       "        4094.14604185,  5014.31673311,  3863.99997725,  6836.9764339 ,\n",
       "        6120.46743482,  3842.63680763,  1459.33168305,  5894.23362292,\n",
       "        4104.18643037,  4794.57164037,  6189.12976143,   744.41630896,\n",
       "        1518.58610752,  5056.08953972,  1326.39154253,  5356.13249461,\n",
       "        2811.37530572,  5261.30259566,  5056.39361608,  1285.85636051,\n",
       "        3277.40640238,  3837.97175058,  4096.78417169,  5575.06428538,\n",
       "        4941.90498742,  3144.36297304,  4762.52201109,  4926.91000617,\n",
       "        5491.67309325,  6109.19126163,  3781.53886632,  6204.79498702,\n",
       "        1233.82166161,  7351.61790678,  4021.90562147,  1237.80870892,\n",
       "        5748.15528497,  6546.67833039,  3553.12113611,  5023.1201326 ,\n",
       "        1433.48900234,  6282.25359547,  4316.57492556,  5173.14285194,\n",
       "        2844.33859997,  2584.2452702 ,  1928.93597501,  7491.72675492,\n",
       "        3168.71251112,  4609.23459811,  1710.08306124,  3885.82640307,\n",
       "        7094.41039337,  2781.25288279,  3299.82211113,  4240.48139338,\n",
       "        2383.23869788,  4455.35874621,  5556.15784228,  5579.21222095,\n",
       "        7140.52254019,  4728.64494884,  5994.86331787,  6985.33152099,\n",
       "        5745.58166995,  5211.71223698,  6388.95410796,  5516.37649678,\n",
       "        7216.47453756,  1426.77666797,  6449.36536884,  6471.08179873,\n",
       "        4638.1295204 ,  1069.51808965,  3306.17892184,  6420.32673614,\n",
       "        5820.54244616,  4281.90689931,  4714.20509015,  2603.43086348,\n",
       "        4446.84050412,  5392.82722696,  3378.90844649,  3812.44913223,\n",
       "        6950.03097986,  4464.8017923 ,  6442.57630304,  2588.40093287,\n",
       "        3912.56819148,  3062.08038417,  6195.52070619,  3762.46831253,\n",
       "        4606.29365763,  4992.79408192,  3547.90009653,  6247.46137388,\n",
       "        1247.12857756,  5155.76663857,  1903.81160263,  3185.52491176,\n",
       "        4799.43477864,  3902.48986607,  2702.92374897])"
      ]
     },
     "execution_count": 44,
     "metadata": {},
     "output_type": "execute_result"
    }
   ],
   "source": [
    "#Cross validation prediction\n",
    "predict=cross_val_predict(lr_model,X_train,y_train,cv=3)\n",
    "predict"
   ]
  },
  {
   "cell_type": "code",
   "execution_count": 45,
   "id": "a94d83a1",
   "metadata": {},
   "outputs": [
    {
     "data": {
      "image/png": "[encoded data removed]",
      "text/plain": [
       "<Figure size 1080x576 with 1 Axes>"
      ]
     },
     "metadata": {},
     "output_type": "display_data"
    }
   ],
   "source": [
    "#Cross validation plot\n",
    "fig,ax=plt.subplots(figsize=(15,8))\n",
    "ax.scatter(y_train,y_train-predict)\n",
    "ax.axhline(lw=2,color='black')\n",
    "ax.set_title('Cross validation prediction plot')\n",
    "ax.set_xlabel('Observed')\n",
    "ax.set_ylabel('Residual')\n",
    "plt.show()"
   ]
  },
  {
   "cell_type": "markdown",
   "id": "49f4e7ae",
   "metadata": {},
   "source": [
    "Cross validation prediction plot tells about finite variance between actual target value and predicted target value. In this plot, some data points are have same finite variance between them and for some are not have it."
   ]
  },
  {
   "cell_type": "code",
   "execution_count": 46,
   "id": "ff07dbb8",
   "metadata": {},
   "outputs": [
    {
     "name": "stdout",
     "output_type": "stream",
     "text": [
      "R-squared scores : 0.8001876665905118\n"
     ]
    }
   ],
   "source": [
    "#Model evalution metrics\n",
    "#R-squared and mean squared error score\n",
    "#R-squared scores\n",
    "r2_scores = cross_val_score(lr_model, X_train, y_train, cv=3)\n",
    "print('R-squared scores :',np.average(r2_scores))"
   ]
  },
  {
   "cell_type": "markdown",
   "id": "d7476efc",
   "metadata": {},
   "source": [
    "The R-squared or coefficient of determination is 0.80 on average for 3-fold cross validation , it means that predictor is only able to predict 80% of the variance in the target variable which is contributed by independent variables."
   ]
  },
  {
   "cell_type": "markdown",
   "id": "bbf36539",
   "metadata": {},
   "source": [
    "#### Decoding the test attributes\n",
    "\n"
   ]
  },
  {
   "cell_type": "code",
   "execution_count": 47,
   "id": "dce14262",
   "metadata": {},
   "outputs": [
    {
     "name": "stdout",
     "output_type": "stream",
     "text": [
      "Shape of transformed dataframe : (220, 18)\n"
     ]
    },
    {
     "data": {
      "text/html": [
       "<div>\n",
       "<style scoped>\n",
       "    .dataframe tbody tr th:only-of-type {\n",
       "        vertical-align: middle;\n",
       "    }\n",
       "\n",
       "    .dataframe tbody tr th {\n",
       "        vertical-align: top;\n",
       "    }\n",
       "\n",
       "    .dataframe thead th {\n",
       "        text-align: right;\n",
       "    }\n",
       "</style>\n",
       "<table border=\"1\" class=\"dataframe\">\n",
       "  <thead>\n",
       "    <tr style=\"text-align: right;\">\n",
       "      <th></th>\n",
       "      <th>month</th>\n",
       "      <th>weekday</th>\n",
       "      <th>humidity</th>\n",
       "      <th>temp</th>\n",
       "      <th>windspeed</th>\n",
       "      <th>season_1</th>\n",
       "      <th>season_2</th>\n",
       "      <th>season_3</th>\n",
       "      <th>season_4</th>\n",
       "      <th>holiday_0</th>\n",
       "      <th>holiday_1</th>\n",
       "      <th>workingday_0</th>\n",
       "      <th>workingday_1</th>\n",
       "      <th>weather_condition_1</th>\n",
       "      <th>weather_condition_2</th>\n",
       "      <th>weather_condition_3</th>\n",
       "      <th>year_0</th>\n",
       "      <th>year_1</th>\n",
       "    </tr>\n",
       "  </thead>\n",
       "  <tbody>\n",
       "    <tr>\n",
       "      <th>0</th>\n",
       "      <td>12</td>\n",
       "      <td>2</td>\n",
       "      <td>0.733750</td>\n",
       "      <td>0.475833</td>\n",
       "      <td>0.174129</td>\n",
       "      <td>0</td>\n",
       "      <td>0</td>\n",
       "      <td>0</td>\n",
       "      <td>1</td>\n",
       "      <td>1</td>\n",
       "      <td>0</td>\n",
       "      <td>0</td>\n",
       "      <td>1</td>\n",
       "      <td>1</td>\n",
       "      <td>0</td>\n",
       "      <td>0</td>\n",
       "      <td>0</td>\n",
       "      <td>1</td>\n",
       "    </tr>\n",
       "    <tr>\n",
       "      <th>1</th>\n",
       "      <td>2</td>\n",
       "      <td>4</td>\n",
       "      <td>0.437826</td>\n",
       "      <td>0.186957</td>\n",
       "      <td>0.277752</td>\n",
       "      <td>1</td>\n",
       "      <td>0</td>\n",
       "      <td>0</td>\n",
       "      <td>0</td>\n",
       "      <td>1</td>\n",
       "      <td>0</td>\n",
       "      <td>0</td>\n",
       "      <td>1</td>\n",
       "      <td>1</td>\n",
       "      <td>0</td>\n",
       "      <td>0</td>\n",
       "      <td>1</td>\n",
       "      <td>0</td>\n",
       "    </tr>\n",
       "    <tr>\n",
       "      <th>2</th>\n",
       "      <td>10</td>\n",
       "      <td>5</td>\n",
       "      <td>0.585833</td>\n",
       "      <td>0.330833</td>\n",
       "      <td>0.229479</td>\n",
       "      <td>0</td>\n",
       "      <td>0</td>\n",
       "      <td>0</td>\n",
       "      <td>1</td>\n",
       "      <td>1</td>\n",
       "      <td>0</td>\n",
       "      <td>0</td>\n",
       "      <td>1</td>\n",
       "      <td>0</td>\n",
       "      <td>1</td>\n",
       "      <td>0</td>\n",
       "      <td>1</td>\n",
       "      <td>0</td>\n",
       "    </tr>\n",
       "    <tr>\n",
       "      <th>3</th>\n",
       "      <td>4</td>\n",
       "      <td>0</td>\n",
       "      <td>0.676250</td>\n",
       "      <td>0.425833</td>\n",
       "      <td>0.172267</td>\n",
       "      <td>0</td>\n",
       "      <td>1</td>\n",
       "      <td>0</td>\n",
       "      <td>0</td>\n",
       "      <td>1</td>\n",
       "      <td>0</td>\n",
       "      <td>1</td>\n",
       "      <td>0</td>\n",
       "      <td>0</td>\n",
       "      <td>1</td>\n",
       "      <td>0</td>\n",
       "      <td>0</td>\n",
       "      <td>1</td>\n",
       "    </tr>\n",
       "    <tr>\n",
       "      <th>4</th>\n",
       "      <td>9</td>\n",
       "      <td>2</td>\n",
       "      <td>0.570000</td>\n",
       "      <td>0.550000</td>\n",
       "      <td>0.236321</td>\n",
       "      <td>0</td>\n",
       "      <td>0</td>\n",
       "      <td>0</td>\n",
       "      <td>1</td>\n",
       "      <td>1</td>\n",
       "      <td>0</td>\n",
       "      <td>0</td>\n",
       "      <td>1</td>\n",
       "      <td>1</td>\n",
       "      <td>0</td>\n",
       "      <td>0</td>\n",
       "      <td>0</td>\n",
       "      <td>1</td>\n",
       "    </tr>\n",
       "  </tbody>\n",
       "</table>\n",
       "</div>"
      ],
      "text/plain": [
       "  month weekday  humidity      temp  windspeed  season_1  season_2  season_3  \\\n",
       "0    12       2  0.733750  0.475833   0.174129         0         0         0   \n",
       "1     2       4  0.437826  0.186957   0.277752         1         0         0   \n",
       "2    10       5  0.585833  0.330833   0.229479         0         0         0   \n",
       "3     4       0  0.676250  0.425833   0.172267         0         1         0   \n",
       "4     9       2  0.570000  0.550000   0.236321         0         0         0   \n",
       "\n",
       "   season_4  holiday_0  holiday_1  workingday_0  workingday_1  \\\n",
       "0         1          1          0             0             1   \n",
       "1         0          1          0             0             1   \n",
       "2         1          1          0             0             1   \n",
       "3         0          1          0             1             0   \n",
       "4         1          1          0             0             1   \n",
       "\n",
       "   weather_condition_1  weather_condition_2  weather_condition_3  year_0  \\\n",
       "0                    1                    0                    0       0   \n",
       "1                    1                    0                    0       1   \n",
       "2                    0                    1                    0       1   \n",
       "3                    0                    1                    0       0   \n",
       "4                    1                    0                    0       0   \n",
       "\n",
       "   year_1  \n",
       "0       1  \n",
       "1       0  \n",
       "2       0  \n",
       "3       1  \n",
       "4       1  "
      ]
     },
     "execution_count": 47,
     "metadata": {},
     "output_type": "execute_result"
    }
   ],
   "source": [
    "#To get dummy variables to encode the categorical features to numeric\n",
    "test_encoded_attributes=pd.get_dummies(test_attributes,columns=cat_attributes)\n",
    "print('Shape of transformed dataframe :',test_encoded_attributes.shape)\n",
    "test_encoded_attributes.head(5)"
   ]
  },
  {
   "cell_type": "code",
   "execution_count": 48,
   "id": "7653143d",
   "metadata": {},
   "outputs": [],
   "source": [
    "#Test dataset for prediction\n",
    "X_test=test_encoded_attributes\n",
    "y_test=y_test.total_count.values\n"
   ]
  },
  {
   "cell_type": "code",
   "execution_count": 49,
   "id": "c02d14bd",
   "metadata": {},
   "outputs": [
    {
     "data": {
      "text/plain": [
       "array([6209.88825553, 1370.06947696, 3205.55849425, 4830.84047714,\n",
       "       6672.32546573, 6947.08528843,  677.27161672, 1930.19985524,\n",
       "       6960.37730963, 6853.05955207, 2796.28434677, 2106.72243383,\n",
       "       4459.62259931, 5490.76139515, 2170.94843429, 1815.33408557,\n",
       "       2159.74379601, 7467.50546535, 5480.85944359, 2610.61755996,\n",
       "       6931.75427888, 7827.1631451 , 5537.40521413, 1260.01881383,\n",
       "       1239.58201011, 4482.33688527, 2513.51830313, 6726.24746139,\n",
       "       3855.1594353 , 5814.58439125, 3101.81978124, 4246.0992367 ,\n",
       "       6352.07728202, 6798.30987499, 5789.57985271, 5421.74100249,\n",
       "       6682.04863246, 5853.2718865 , 3185.1535458 ,  800.50999346,\n",
       "       4499.93257987, 3739.00277023, 6910.64022695, 4066.40570202,\n",
       "       6915.07188273, 1642.61427789, 4803.6959788 , 4710.75028654,\n",
       "       6375.22762156, 4601.3646879 , 3109.14207514, 2841.35338182,\n",
       "       1820.66354148, 5587.80018272, 4624.6432182 , 4086.58284626,\n",
       "       4701.90383703, 3042.28041307, 4366.68721862, 6624.05914999,\n",
       "       5008.17818826, 6206.0850059 , 2589.295495  , 6734.04571104,\n",
       "       5798.56398767, 7756.36240274, 6843.62972925, 5177.45392408,\n",
       "       1567.79811849, 6033.27377508, 2645.35678416, 2116.74197946,\n",
       "       3359.88009175, 4347.1106471 , 4368.07426014, 3224.06416712,\n",
       "       5375.67853867, 4244.48993455,  971.26573434, 5651.76507688,\n",
       "       2539.52360485, 3029.71045065, 5886.91253113, 3548.9261752 ,\n",
       "       3876.37397246, 4048.79252757, 4705.41692675, 3432.3450328 ,\n",
       "       3733.7721028 , 3210.87697816,  706.59898846, 6826.9136283 ,\n",
       "       5926.40033283, 4849.90430531, 3155.61501524, 3287.05215449,\n",
       "       4499.49824937, 2629.93888088, 3594.00505512, 5045.96355793,\n",
       "       7167.3340647 , 4470.6836175 , 6540.79512144, 3145.81759715,\n",
       "       2770.61108937, 5607.15027825, 1093.25623471, 2676.90471923,\n",
       "       7028.12924891,  934.13136833, 5235.05937792, 6298.09772013,\n",
       "       3411.80163682, 6379.90839417, 5845.07944141, 3089.05466236,\n",
       "       1410.98356115, 4082.90911947, 4760.38125794, 3226.53637612,\n",
       "       6237.44720792, 2277.2653219 , 3293.9599715 , 1312.69807016,\n",
       "       4399.84809089, 5957.03240315, 5245.6150865 , 2969.42282266,\n",
       "       1961.93147682, 5828.5096941 , 3262.41912086, 4161.88344591,\n",
       "       5436.49105028, 5038.22097871, 4653.67511208, 2463.79727167,\n",
       "       5502.77776345, 6245.32344062, 1481.55512066, 5152.98340385,\n",
       "       4235.61764298, 2059.26127073, 2064.87889058, 5247.40487262,\n",
       "       4207.73008965, 4935.91514517, 4371.03620744, 4663.94400243,\n",
       "       2303.14763315, 3735.30736495, 3329.74238448, 6827.87099547,\n",
       "       3407.9272554 , 4218.27441535, 1210.82949448, 3387.20416582,\n",
       "       4249.58552909, 6576.90824071, 2511.33433525, 5182.53426948,\n",
       "       5837.3768481 , 3580.74610139, 4176.5315933 , 5671.31095795,\n",
       "       1812.96772746, 3606.2728306 , 5453.19090274, 1986.70227025,\n",
       "       3401.82407194, 5339.25848372, 6660.86883933, 6952.27820372,\n",
       "       1131.05529481, 3700.83017021, 3727.6571432 , 5778.84951901,\n",
       "       4150.4624283 , 7406.5533619 , 3844.42830812, 2266.60028231,\n",
       "        400.83041583, 6637.58887604, 6639.99210875, 5098.65473099,\n",
       "       6422.90985821, 6800.46189555, 7502.08914521, 2822.35372087,\n",
       "       5459.45975552, 1242.66012337, 6989.01648851, 3682.06488426,\n",
       "       3881.32102089, 5555.33106456, 3075.71016841, 1648.28893504,\n",
       "       5226.51829878, 3487.03518573, 1363.45167786, 4969.4306055 ,\n",
       "       5215.22053121, 6385.74461309, 5641.79961855, 5398.95796998,\n",
       "       5070.59437173, 1341.96679076, 6622.86709539, 1705.14771063,\n",
       "       6348.26208184, 7411.45510426, 6367.56793344, 5767.1258939 ,\n",
       "       5353.94811131, 3636.21356212, 4692.32630162, 3729.13751576,\n",
       "       7203.35874493, 6314.8567442 , 3803.39914543, 3577.33328174])"
      ]
     },
     "execution_count": 49,
     "metadata": {},
     "output_type": "execute_result"
    }
   ],
   "source": [
    "#predict the model\n",
    "lr_pred=lr_model.predict(X_test)\n",
    "lr_pred\n"
   ]
  },
  {
   "cell_type": "code",
   "execution_count": 50,
   "id": "cae6f9a3",
   "metadata": {},
   "outputs": [
    {
     "name": "stdout",
     "output_type": "stream",
     "text": [
      "Root mean square error : 782.4072817767155\n",
      "Mean absolute error : 594.5075464350738\n"
     ]
    }
   ],
   "source": [
    "#Model evaluation metrics\n",
    "#Root mean square error and mean absolute error scores\n",
    "\n",
    "import math\n",
    "#Root mean square error \n",
    "rmse=math.sqrt(metrics.mean_squared_error(y_test,lr_pred))\n",
    "#Mean absolute error\n",
    "mae=metrics.mean_absolute_error(y_test,lr_pred)\n",
    "print('Root mean square error :',rmse)\n",
    "print('Mean absolute error :',mae)"
   ]
  },
  {
   "cell_type": "code",
   "execution_count": 51,
   "id": "50003fc2",
   "metadata": {},
   "outputs": [
    {
     "data": {
      "image/png": "[encoded data removed]",
      "text/plain": [
       "<Figure size 1080x576 with 1 Axes>"
      ]
     },
     "metadata": {},
     "output_type": "display_data"
    }
   ],
   "source": [
    "#Residual plot\n",
    "fig, ax = plt.subplots(figsize=(15,8))\n",
    "ax.scatter(y_test, y_test-lr_pred)\n",
    "ax.axhline(lw=2,color='black')\n",
    "ax.set_xlabel('Observed')\n",
    "ax.set_ylabel('Residuals')\n",
    "ax.title.set_text(\"Residual Plot\")\n",
    "plt.show()"
   ]
  },
  {
   "cell_type": "markdown",
   "id": "eb844923",
   "metadata": {},
   "source": [
    "Residual plot tells about finite variance between actual target value and predicted target value.In this plot,very less data points are have same finite variance between them and for most are not have it.\n",
    "\n"
   ]
  },
  {
   "cell_type": "markdown",
   "id": "bc6cbc94",
   "metadata": {},
   "source": [
    "## Decision tree regressor"
   ]
  },
  {
   "cell_type": "code",
   "execution_count": 52,
   "id": "5f2ebbd0",
   "metadata": {},
   "outputs": [],
   "source": [
    "#training the model\n",
    "from sklearn.tree import DecisionTreeRegressor\n",
    "dtr=DecisionTreeRegressor(min_samples_split=2,max_leaf_nodes=10)"
   ]
  },
  {
   "cell_type": "code",
   "execution_count": 53,
   "id": "15ffe3fa",
   "metadata": {},
   "outputs": [
    {
     "data": {
      "text/plain": [
       "DecisionTreeRegressor(max_leaf_nodes=10)"
      ]
     },
     "execution_count": 53,
     "metadata": {},
     "output_type": "execute_result"
    }
   ],
   "source": [
    "#Fit the trained model\n",
    "dtr.fit(X_train,y_train)"
   ]
  },
  {
   "cell_type": "code",
   "execution_count": 54,
   "id": "bc69c169",
   "metadata": {},
   "outputs": [
    {
     "name": "stdout",
     "output_type": "stream",
     "text": [
      "Accuracy of model : 0.8082151777539757\n"
     ]
    }
   ],
   "source": [
    "#Accuracy score of the model\n",
    "dtr_score=dtr.score(X_train,y_train)\n",
    "print('Accuracy of model :',dtr_score)"
   ]
  },
  {
   "cell_type": "code",
   "execution_count": 60,
   "id": "4e65d23e",
   "metadata": {},
   "outputs": [
    {
     "data": {
      "image/png": "[encoded data removed]",
      "text/plain": [
       "<Figure size 900x600 with 1 Axes>"
      ]
     },
     "metadata": {},
     "output_type": "display_data"
    }
   ],
   "source": [
    "#Plot the learned model\n",
    "from sklearn.tree import plot_tree\n",
    "plt.figure(dpi = 150)\n",
    "plot_tree(dtr, filled = True);"
   ]
  },
  {
   "cell_type": "code",
   "execution_count": 61,
   "id": "d1833a50",
   "metadata": {},
   "outputs": [
    {
     "data": {
      "text/plain": [
       "array([4513.38554217, 4592.56521739, 4592.56521739, 4513.38554217,\n",
       "       2558.6       , 5388.47058824, 6824.96969697, 4592.56521739,\n",
       "       4592.56521739, 3603.92857143, 6824.96969697, 3194.22222222,\n",
       "       4513.38554217, 6824.96969697, 4513.38554217, 6824.96969697,\n",
       "       3603.92857143, 1636.81818182, 1636.81818182, 1636.81818182,\n",
       "       6824.96969697, 2558.6       , 4592.56521739, 1027.        ,\n",
       "       6824.96969697, 6824.96969697, 2558.6       , 4592.56521739,\n",
       "       1636.81818182, 4513.38554217, 1636.81818182, 1636.81818182,\n",
       "       1636.81818182, 1636.81818182, 4513.38554217, 5388.47058824,\n",
       "       6824.96969697, 4592.56521739, 4513.38554217, 6824.96969697,\n",
       "       6824.96969697, 4513.38554217, 6824.96969697, 6824.96969697,\n",
       "       4513.38554217, 3194.22222222, 1636.81818182, 4592.56521739,\n",
       "       4513.38554217, 6824.96969697, 3194.22222222, 6824.96969697,\n",
       "       6824.96969697, 3603.92857143, 4513.38554217, 1027.        ,\n",
       "       1636.81818182, 4513.38554217, 1636.81818182, 4513.38554217,\n",
       "       4592.56521739, 4592.56521739, 2558.6       , 5388.47058824,\n",
       "       4513.38554217, 6824.96969697, 4513.38554217, 3194.22222222,\n",
       "       1027.        , 4592.56521739, 4513.38554217, 4513.38554217,\n",
       "       6824.96969697, 3603.92857143, 4513.38554217, 1636.81818182,\n",
       "       2558.6       , 4513.38554217, 1636.81818182, 4592.56521739,\n",
       "       4513.38554217, 4513.38554217, 4513.38554217, 1636.81818182,\n",
       "       6824.96969697, 4513.38554217, 4513.38554217, 6824.96969697,\n",
       "       4513.38554217, 4513.38554217, 1636.81818182, 2558.6       ,\n",
       "       1636.81818182, 6824.96969697, 6824.96969697, 4513.38554217,\n",
       "       4513.38554217, 4513.38554217, 3603.92857143, 1636.81818182,\n",
       "       3603.92857143, 4513.38554217, 6824.96969697, 4513.38554217,\n",
       "       2558.6       , 6824.96969697, 6824.96969697, 6824.96969697,\n",
       "       4513.38554217, 6824.96969697, 3603.92857143, 3603.92857143,\n",
       "       1636.81818182, 4513.38554217, 4513.38554217, 2558.6       ,\n",
       "       5388.47058824, 4513.38554217, 1636.81818182, 2558.6       ,\n",
       "       6824.96969697, 4513.38554217, 6824.96969697, 6824.96969697,\n",
       "       6824.96969697, 6824.96969697, 4513.38554217, 3603.92857143,\n",
       "       6824.96969697, 4592.56521739, 6824.96969697, 4513.38554217,\n",
       "       3194.22222222, 6824.96969697, 6824.96969697, 4513.38554217,\n",
       "       4592.56521739, 4592.56521739, 4592.56521739, 1027.        ,\n",
       "       6824.96969697, 3603.92857143, 3603.92857143, 4592.56521739,\n",
       "       4513.38554217, 4513.38554217, 5388.47058824, 3603.92857143,\n",
       "       1636.81818182, 4513.38554217, 6824.96969697, 3603.92857143,\n",
       "       4592.56521739, 1636.81818182, 3603.92857143, 1636.81818182,\n",
       "       1636.81818182, 6824.96969697, 4513.38554217, 1636.81818182,\n",
       "       6824.96969697, 4513.38554217, 4513.38554217, 6824.96969697,\n",
       "       4513.38554217, 4513.38554217, 4513.38554217, 6824.96969697,\n",
       "       3603.92857143, 4513.38554217, 4513.38554217, 5335.42307692,\n",
       "       4508.48192771, 2088.92      , 6943.30434783, 2088.92      ,\n",
       "       6943.30434783, 4508.48192771, 4508.48192771, 1857.87234043,\n",
       "       5335.42307692, 3623.52380952, 4508.48192771, 1857.87234043,\n",
       "       1857.87234043, 4508.48192771, 5335.42307692, 5335.42307692,\n",
       "       3779.14285714, 2088.92      , 4508.48192771, 1857.87234043,\n",
       "       5335.42307692, 5798.66666667, 5335.42307692, 6943.30434783,\n",
       "       6943.30434783, 5335.42307692, 1857.87234043, 5335.42307692,\n",
       "       1857.87234043, 5998.        , 5798.66666667, 4508.48192771,\n",
       "       1857.87234043, 4508.48192771, 5335.42307692, 5335.42307692,\n",
       "       1857.87234043, 6943.30434783, 5998.        , 3623.52380952,\n",
       "       5335.42307692, 4508.48192771, 2088.92      , 3308.08333333,\n",
       "       5335.42307692, 4508.48192771, 1857.87234043, 6943.30434783,\n",
       "       3308.08333333, 6943.30434783, 2088.92      , 2088.92      ,\n",
       "       4508.48192771, 1857.87234043, 4508.48192771, 4508.48192771,\n",
       "       5335.42307692, 3779.14285714, 3779.14285714, 5998.        ,\n",
       "       4508.48192771, 6943.30434783, 4508.48192771, 6943.30434783,\n",
       "       4508.48192771, 6943.30434783, 6943.30434783, 1857.87234043,\n",
       "       6943.30434783, 5998.        , 1857.87234043, 5798.66666667,\n",
       "       6943.30434783, 2088.92      , 6943.30434783, 4508.48192771,\n",
       "       5998.        , 5998.        , 4508.48192771, 3623.52380952,\n",
       "       4508.48192771, 6943.30434783, 3779.14285714, 1857.87234043,\n",
       "       6943.30434783, 5998.        , 4508.48192771, 5798.66666667,\n",
       "       6943.30434783, 2088.92      , 4508.48192771, 6943.30434783,\n",
       "       6943.30434783, 4508.48192771, 1857.87234043, 3779.14285714,\n",
       "       6943.30434783, 6943.30434783, 2088.92      , 4508.48192771,\n",
       "       1857.87234043, 5335.42307692, 4508.48192771, 1857.87234043,\n",
       "       4508.48192771, 1857.87234043, 5335.42307692, 4508.48192771,\n",
       "       6943.30434783, 6943.30434783, 5998.        , 5335.42307692,\n",
       "       1857.87234043, 6943.30434783, 5998.        , 6943.30434783,\n",
       "       2088.92      , 6943.30434783, 4508.48192771, 4508.48192771,\n",
       "       3623.52380952, 5798.66666667, 6943.30434783, 5998.        ,\n",
       "       3308.08333333, 4508.48192771, 1857.87234043, 4508.48192771,\n",
       "       6943.30434783, 6943.30434783, 5998.        , 4508.48192771,\n",
       "       4508.48192771, 6943.30434783, 5335.42307692, 5798.66666667,\n",
       "       3623.52380952, 6943.30434783, 3623.52380952, 4508.48192771,\n",
       "       2088.92      , 6943.30434783, 4508.48192771, 5335.42307692,\n",
       "       4508.48192771, 4508.48192771, 3623.52380952, 1857.87234043,\n",
       "       4508.48192771, 4508.48192771, 4508.48192771, 6943.30434783,\n",
       "       4508.48192771, 1857.87234043, 5335.42307692, 4508.48192771,\n",
       "       3779.14285714, 6943.30434783, 5998.        , 4508.48192771,\n",
       "       5335.42307692, 6943.30434783, 6943.30434783, 5335.42307692,\n",
       "       1857.87234043, 5335.42307692, 6943.30434783, 3308.08333333,\n",
       "       5998.        , 6858.30952381, 2732.25      , 4509.55555556,\n",
       "       6858.30952381, 1434.22222222, 4509.55555556, 6858.30952381,\n",
       "       4509.55555556, 3573.79411765, 6858.30952381, 1960.84      ,\n",
       "       4509.55555556, 4509.55555556, 3573.79411765, 1434.22222222,\n",
       "       4509.55555556, 4721.39130435, 6858.30952381, 6858.30952381,\n",
       "       3520.11111111, 6858.30952381, 4721.39130435, 4721.39130435,\n",
       "       6180.2       , 6858.30952381, 4487.75      , 6858.30952381,\n",
       "       6858.30952381, 1434.22222222, 4509.55555556, 4509.55555556,\n",
       "       6858.30952381, 1434.22222222, 6858.30952381, 4509.55555556,\n",
       "       6858.30952381, 6858.30952381, 4721.39130435, 1960.84      ,\n",
       "       6858.30952381, 4509.55555556, 6858.30952381, 6858.30952381,\n",
       "       6858.30952381, 6180.2       , 4509.55555556, 3573.79411765,\n",
       "       3573.79411765, 6858.30952381, 4509.55555556, 1434.22222222,\n",
       "       4721.39130435, 4487.75      , 6858.30952381, 1960.84      ,\n",
       "       6858.30952381, 1434.22222222, 6858.30952381, 4509.55555556,\n",
       "       1960.84      , 4509.55555556, 2732.25      , 1434.22222222,\n",
       "       6858.30952381, 4509.55555556, 6858.30952381, 1434.22222222,\n",
       "       4509.55555556, 6858.30952381, 6858.30952381, 6858.30952381,\n",
       "       6858.30952381, 4509.55555556, 1960.84      , 6858.30952381,\n",
       "       4509.55555556, 4721.39130435, 6858.30952381, 1960.84      ,\n",
       "       1434.22222222, 4509.55555556, 1434.22222222, 6858.30952381,\n",
       "       1434.22222222, 4509.55555556, 4509.55555556, 1434.22222222,\n",
       "       3520.11111111, 4509.55555556, 2732.25      , 3573.79411765,\n",
       "       6858.30952381, 1434.22222222, 2732.25      , 4509.55555556,\n",
       "       4509.55555556, 6858.30952381, 3573.79411765, 6858.30952381,\n",
       "       2732.25      , 6858.30952381, 3573.79411765, 1960.84      ,\n",
       "       4721.39130435, 6858.30952381, 4509.55555556, 4509.55555556,\n",
       "       1434.22222222, 6180.2       , 3573.79411765, 3573.79411765,\n",
       "       3573.79411765, 1960.84      , 2732.25      , 6858.30952381,\n",
       "       1434.22222222, 4509.55555556, 1434.22222222, 3520.11111111,\n",
       "       6858.30952381, 1434.22222222, 3520.11111111, 4509.55555556,\n",
       "       3573.79411765, 4721.39130435, 6858.30952381, 4721.39130435,\n",
       "       6858.30952381, 4509.55555556, 4487.75      , 6858.30952381,\n",
       "       4721.39130435, 4509.55555556, 6858.30952381, 6858.30952381,\n",
       "       6180.2       , 1960.84      , 6858.30952381, 6858.30952381,\n",
       "       4509.55555556, 1434.22222222, 3520.11111111, 6858.30952381,\n",
       "       4509.55555556, 4509.55555556, 4509.55555556, 1434.22222222,\n",
       "       3573.79411765, 6858.30952381, 3520.11111111, 3520.11111111,\n",
       "       6858.30952381, 4509.55555556, 6180.2       , 2732.25      ,\n",
       "       3573.79411765, 1960.84      , 6858.30952381, 4509.55555556,\n",
       "       4509.55555556, 3573.79411765, 4509.55555556, 6180.2       ,\n",
       "       1434.22222222, 4721.39130435, 1960.84      , 4509.55555556,\n",
       "       4509.55555556, 3573.79411765, 1960.84      ])"
      ]
     },
     "execution_count": 61,
     "metadata": {},
     "output_type": "execute_result"
    }
   ],
   "source": [
    "#Cross validation prediction\n",
    "\n",
    "predict=cross_val_predict(dtr,X_train,y_train,cv=3)\n",
    "predict"
   ]
  },
  {
   "cell_type": "code",
   "execution_count": 62,
   "id": "6b4990c4",
   "metadata": {},
   "outputs": [
    {
     "data": {
      "image/png": "[encoded data removed]",
      "text/plain": [
       "<Figure size 1080x576 with 1 Axes>"
      ]
     },
     "metadata": {},
     "output_type": "display_data"
    }
   ],
   "source": [
    "# Cross validation prediction plot\n",
    "\n",
    "fig,ax=plt.subplots(figsize=(15,8))\n",
    "ax.scatter(y_train,y_train-predict)\n",
    "ax.axhline(lw=2,color='black')\n",
    "ax.set_title('Cross validation prediction plot')\n",
    "ax.set_xlabel('Observed')\n",
    "ax.set_ylabel('Residual')\n",
    "plt.show()\n"
   ]
  },
  {
   "cell_type": "markdown",
   "id": "f41b6ae6",
   "metadata": {},
   "source": [
    "Cross validation prediction plot tells about finite variance between actual target value and predicted target value. In this plot,some data points are have same finite variance between them and for some are not have it."
   ]
  },
  {
   "cell_type": "code",
   "execution_count": 63,
   "id": "85e4bdd3",
   "metadata": {},
   "outputs": [
    {
     "name": "stdout",
     "output_type": "stream",
     "text": [
      "R-squared scores : 0.7294133148789058\n"
     ]
    }
   ],
   "source": [
    "#R-squared and mean squared error scores\n",
    "\n",
    "#R-squared scores\n",
    "r2_scores = cross_val_score(dtr, X_train, y_train, cv=3)\n",
    "print('R-squared scores :',np.average(r2_scores))"
   ]
  },
  {
   "cell_type": "markdown",
   "id": "0bc1f134",
   "metadata": {},
   "source": [
    "he R-squared or coefficient of determination is 0.73 on average for 3-fold cross validation ,it means that predictor is only able to predict 73% of the variance in the target variable which is contributed by independent variables."
   ]
  },
  {
   "cell_type": "code",
   "execution_count": 64,
   "id": "8a0bb623",
   "metadata": {},
   "outputs": [
    {
     "data": {
      "text/plain": [
       "array([6777.95      , 1848.95454545, 3612.69230769, 5277.09375   ,\n",
       "       6777.95      , 6777.95      , 1848.95454545, 1992.25      ,\n",
       "       6777.95      , 6777.95      , 1848.95454545, 1992.25      ,\n",
       "       4465.04444444, 5277.09375   , 1992.25      , 1992.25      ,\n",
       "       1992.25      , 6777.95      , 4465.04444444, 1848.95454545,\n",
       "       6777.95      , 6777.95      , 5277.09375   , 1848.95454545,\n",
       "       1992.25      , 4465.04444444, 1992.25      , 6777.95      ,\n",
       "       1848.95454545, 5277.09375   , 1848.95454545, 4465.04444444,\n",
       "       6777.95      , 6777.95      , 6777.95      , 5484.22727273,\n",
       "       6777.95      , 6777.95      , 4465.04444444, 1848.95454545,\n",
       "       4465.04444444, 1848.95454545, 6777.95      , 4465.04444444,\n",
       "       6777.95      , 3612.69230769, 4465.04444444, 6777.95      ,\n",
       "       6777.95      , 5484.22727273, 4465.04444444, 1848.95454545,\n",
       "       1992.25      , 4465.04444444, 4465.04444444, 4465.04444444,\n",
       "       3170.41666667, 4465.04444444, 4465.04444444, 6777.95      ,\n",
       "       6777.95      , 6777.95      , 1992.25      , 6777.95      ,\n",
       "       6777.95      , 6777.95      , 6777.95      , 4465.04444444,\n",
       "       1992.25      , 6777.95      , 4465.04444444, 1992.25      ,\n",
       "       3612.69230769, 4465.04444444, 3701.94444444, 4465.04444444,\n",
       "       5277.09375   , 4465.04444444, 1848.95454545, 4465.04444444,\n",
       "       1848.95454545, 1848.95454545, 5277.09375   , 5484.22727273,\n",
       "       3612.69230769, 3701.94444444, 3170.41666667, 3612.69230769,\n",
       "       3612.69230769, 1848.95454545, 1848.95454545, 6777.95      ,\n",
       "       5277.09375   , 6777.95      , 1848.95454545, 1848.95454545,\n",
       "       4465.04444444, 1848.95454545, 3170.41666667, 4465.04444444,\n",
       "       6777.95      , 4465.04444444, 6777.95      , 1848.95454545,\n",
       "       1992.25      , 5277.09375   , 1992.25      , 1848.95454545,\n",
       "       6777.95      , 1848.95454545, 4465.04444444, 6777.95      ,\n",
       "       3612.69230769, 6777.95      , 5484.22727273, 4465.04444444,\n",
       "       1992.25      , 1848.95454545, 4465.04444444, 1848.95454545,\n",
       "       6777.95      , 3170.41666667, 4465.04444444, 1848.95454545,\n",
       "       4465.04444444, 5277.09375   , 4465.04444444, 3612.69230769,\n",
       "       1992.25      , 6777.95      , 3612.69230769, 3612.69230769,\n",
       "       5277.09375   , 5277.09375   , 4465.04444444, 1992.25      ,\n",
       "       6777.95      , 6777.95      , 1992.25      , 4465.04444444,\n",
       "       4465.04444444, 1992.25      , 1992.25      , 4465.04444444,\n",
       "       3612.69230769, 4465.04444444, 4465.04444444, 5277.09375   ,\n",
       "       3170.41666667, 3612.69230769, 4465.04444444, 6777.95      ,\n",
       "       4465.04444444, 4465.04444444, 1848.95454545, 4465.04444444,\n",
       "       3701.94444444, 6777.95      , 3170.41666667, 4465.04444444,\n",
       "       6777.95      , 3170.41666667, 3612.69230769, 5277.09375   ,\n",
       "       1848.95454545, 4465.04444444, 6777.95      , 1992.25      ,\n",
       "       3612.69230769, 4465.04444444, 6777.95      , 6777.95      ,\n",
       "       1848.95454545, 3701.94444444, 3701.94444444, 6777.95      ,\n",
       "       3701.94444444, 6777.95      , 4465.04444444, 1992.25      ,\n",
       "       1992.25      , 6777.95      , 6777.95      , 5277.09375   ,\n",
       "       6777.95      , 6777.95      , 6777.95      , 1848.95454545,\n",
       "       5277.09375   , 1992.25      , 6777.95      , 3701.94444444,\n",
       "       4465.04444444, 6777.95      , 1848.95454545, 1848.95454545,\n",
       "       4465.04444444, 3701.94444444, 1848.95454545, 4465.04444444,\n",
       "       4465.04444444, 5484.22727273, 5277.09375   , 4465.04444444,\n",
       "       5484.22727273, 3170.41666667, 6777.95      , 1848.95454545,\n",
       "       5484.22727273, 6777.95      , 6777.95      , 4465.04444444,\n",
       "       6777.95      , 1848.95454545, 4465.04444444, 4465.04444444,\n",
       "       6777.95      , 6777.95      , 3170.41666667, 3170.41666667])"
      ]
     },
     "execution_count": 64,
     "metadata": {},
     "output_type": "execute_result"
    }
   ],
   "source": [
    "#predict the model\n",
    "dtr_pred=dtr.predict(X_test)\n",
    "dtr_pred"
   ]
  },
  {
   "cell_type": "code",
   "execution_count": 65,
   "id": "5904d9f2",
   "metadata": {},
   "outputs": [
    {
     "name": "stdout",
     "output_type": "stream",
     "text": [
      "Root mean square error : 925.7976022448886\n",
      "Mean absolute error : 667.8169018859927\n"
     ]
    }
   ],
   "source": [
    "#Root mean square error\n",
    "rmse=math.sqrt(metrics.mean_squared_error(y_test,dtr_pred))\n",
    "#Mean absolute error\n",
    "mae=metrics.mean_absolute_error(y_test,dtr_pred)\n",
    "print('Root mean square error :',rmse)\n",
    "print('Mean absolute error :',mae)"
   ]
  },
  {
   "cell_type": "code",
   "execution_count": 67,
   "id": "2da775c8",
   "metadata": {},
   "outputs": [
    {
     "data": {
      "image/png": "[encoded data removed]",
      "text/plain": [
       "<Figure size 1080x576 with 1 Axes>"
      ]
     },
     "metadata": {},
     "output_type": "display_data"
    }
   ],
   "source": [
    "#Residual scatter plot\n",
    "residuals = y_test-dtr_pred\n",
    "fig, ax = plt.subplots(figsize=(15,8))\n",
    "ax.scatter(y_test, residuals)\n",
    "ax.axhline(lw=2,color='black')\n",
    "ax.set_xlabel('Observed')\n",
    "ax.set_ylabel('Residual')\n",
    "ax.set_title('Residual plot')\n",
    "plt.show()\n"
   ]
  },
  {
   "cell_type": "markdown",
   "id": "a41f1cce",
   "metadata": {},
   "source": [
    "Residual plot tells about finite variance between actual target value and predicted target value. In this plot, some data points are have same finite variance between them and for some are not have it."
   ]
  },
  {
   "cell_type": "markdown",
   "id": "d1fb33dc",
   "metadata": {},
   "source": [
    "## Random Forest\n",
    "\n"
   ]
  },
  {
   "cell_type": "code",
   "execution_count": 69,
   "id": "000f09df",
   "metadata": {},
   "outputs": [],
   "source": [
    "#Training the model\n",
    "from sklearn.ensemble import RandomForestRegressor\n",
    "X_train=train_encoded_attributes\n",
    "rf=RandomForestRegressor(n_estimators=200)"
   ]
  },
  {
   "cell_type": "code",
   "execution_count": 70,
   "id": "91ba0fcd",
   "metadata": {},
   "outputs": [
    {
     "data": {
      "text/plain": [
       "RandomForestRegressor(n_estimators=200)"
      ]
     },
     "execution_count": 70,
     "metadata": {},
     "output_type": "execute_result"
    }
   ],
   "source": [
    "#Fit the trained model\n",
    "rf.fit(X_train,y_train)"
   ]
  },
  {
   "cell_type": "code",
   "execution_count": 71,
   "id": "995aef2a",
   "metadata": {},
   "outputs": [
    {
     "name": "stdout",
     "output_type": "stream",
     "text": [
      "Accuracy of the model : 0.9810755306774765\n"
     ]
    }
   ],
   "source": [
    "#accuracy of the model\n",
    "rf_score =rf.score(X_train,y_train)\n",
    "print('Accuracy of the model :',rf_score)"
   ]
  },
  {
   "cell_type": "code",
   "execution_count": 72,
   "id": "fd9f7054",
   "metadata": {},
   "outputs": [
    {
     "data": {
      "text/plain": [
       "array([4986.54 , 4744.675, 5289.07 , 4799.86 , 3083.505, 5725.48 ,\n",
       "       6635.475, 3877.505, 4280.42 , 3595.33 , 5979.52 , 3411.85 ,\n",
       "       4250.155, 6970.91 , 4931.455, 6822.945, 4088.31 , 2605.47 ,\n",
       "       1192.995, 1353.16 , 6147.09 , 3310.275, 4760.45 , 4465.5  ,\n",
       "       7175.285, 6261.845, 3258.865, 4284.68 , 1430.075, 4957.445,\n",
       "       1080.43 , 1783.38 , 1491.83 , 1939.89 , 4687.44 , 4891.96 ,\n",
       "       6557.34 , 3924.955, 4316.485, 6146.04 , 6626.035, 4317.455,\n",
       "       7108.375, 6422.13 , 4421.29 , 3475.33 , 1294.47 , 3937.21 ,\n",
       "       4672.42 , 6564.335, 2928.795, 6391.415, 6428.41 , 3416.27 ,\n",
       "       4925.915, 3304.11 , 1398.26 , 4110.755, 1036.155, 4608.135,\n",
       "       5544.21 , 4186.015, 3711.565, 5545.795, 4447.4  , 6917.15 ,\n",
       "       4620.625, 3260.145, 3645.745, 4164.105, 3758.93 , 4459.865,\n",
       "       7176.535, 3794.495, 4951.01 , 2379.76 , 2634.675, 4593.475,\n",
       "       2239.115, 4227.275, 4372.585, 4700.22 , 4194.735, 2026.31 ,\n",
       "       7633.225, 4338.25 , 4701.35 , 7216.205, 4605.675, 4161.365,\n",
       "       1566.18 , 2298.725, 1908.63 , 7274.15 , 6799.31 , 4840.215,\n",
       "       4295.89 , 4747.14 , 3476.655, 2033.745, 3141.215, 4308.055,\n",
       "       6207.995, 4479.965, 2858.425, 6576.195, 7147.25 , 7367.485,\n",
       "       4189.535, 6728.16 , 3377.355, 3399.67 , 1895.62 , 4393.98 ,\n",
       "       4917.03 , 2581.59 , 5658.005, 4502.705, 1777.765, 2018.13 ,\n",
       "       6038.04 , 4352.01 , 5743.805, 6427.71 , 6911.57 , 7736.8  ,\n",
       "       4901.44 , 3580.885, 6962.27 , 4380.72 , 6144.345, 4477.75 ,\n",
       "       3557.35 , 6883.305, 7676.23 , 4421.315, 4287.7  , 5073.89 ,\n",
       "       3382.115, 3798.845, 7564.465, 3136.005, 3575.945, 4779.455,\n",
       "       4351.785, 4470.93 , 5293.605, 3311.19 , 1576.82 , 4490.14 ,\n",
       "       7406.11 , 3372.75 , 5717.955, 1435.765, 3694.475, 2520.975,\n",
       "        871.88 , 7086.18 , 4365.615, 1564.25 , 7139.13 , 5128.265,\n",
       "       4356.26 , 6363.74 , 4649.7  , 5079.035, 5041.125, 6821.3  ,\n",
       "       3112.735, 5095.535, 4302.745, 5003.53 , 3945.555, 2523.605,\n",
       "       7066.99 , 1750.62 , 6690.45 , 4849.74 , 5164.78 , 1249.03 ,\n",
       "       5464.235, 3683.13 , 4681.05 , 2303.545, 1822.76 , 4525.545,\n",
       "       5818.485, 6287.155, 4382.48 , 2116.465, 4968.035, 2429.005,\n",
       "       5508.68 , 6140.72 , 5103.045, 7188.81 , 7583.18 , 6326.215,\n",
       "       1485.13 , 5806.415, 1748.815, 5917.285, 5704.895, 4117.705,\n",
       "       1168.575, 3771.5  , 4407.135, 4317.43 , 1380.42 , 7109.395,\n",
       "       6610.02 , 3744.545, 5353.005, 4214.225, 3124.39 , 3568.895,\n",
       "       6500.1  , 4039.295, 1278.34 , 6890.23 , 3514.585, 5549.675,\n",
       "       1703.81 , 2908.87 , 4687.135, 1647.735, 4676.04 , 4487.64 ,\n",
       "       4138.3  , 3982.48 , 4083.555, 5477.565, 5100.935, 7514.79 ,\n",
       "       5223.34 , 7269.01 , 4977.195, 7506.255, 7369.175, 3071.085,\n",
       "       7467.98 , 5888.675, 3495.02 , 6595.88 , 7478.475, 1756.66 ,\n",
       "       6276.915, 4991.655, 5447.135, 5368.92 , 4469.655, 3601.065,\n",
       "       4636.205, 6484.285, 4108.465, 2880.595, 7433.895, 5298.805,\n",
       "       4829.81 , 5864.11 , 7090.23 , 2444.155, 4313.25 , 6407.99 ,\n",
       "       6517.735, 3886.21 , 3005.28 , 4019.78 , 6679.235, 6609.135,\n",
       "       1814.085, 3873.405, 2279.285, 6597.01 , 4063.635, 1596.68 ,\n",
       "       3996.635, 2246.05 , 5004.72 , 4726.015, 6512.32 , 7423.   ,\n",
       "       6704.245, 6383.365, 1126.195, 7236.29 , 5335.87 , 6968.025,\n",
       "       1801.95 , 6451.94 , 4715.635, 4707.28 , 3604.28 , 5744.42 ,\n",
       "       6915.895, 5756.345, 3882.26 , 4572.095, 2879.51 , 4420.76 ,\n",
       "       6901.685, 7353.385, 6044.485, 4690.91 , 4811.085, 6979.85 ,\n",
       "       4739.505, 6500.375, 3612.035, 6822.67 , 3200.77 , 4435.995,\n",
       "       2201.625, 7636.35 , 4097.615, 4053.11 , 4566.025, 5034.93 ,\n",
       "       3854.495, 2157.21 , 3776.81 , 4066.775, 3910.41 , 5650.08 ,\n",
       "       4222.125, 2586.565, 6158.07 , 4737.43 , 4093.88 , 6660.84 ,\n",
       "       5293.785, 4470.905, 4960.62 , 6622.665, 6386.325, 4837.89 ,\n",
       "       1607.965, 4525.215, 6440.2  , 4694.845, 5535.72 , 6876.925,\n",
       "       2925.12 , 4357.825, 7474.44 , 1997.71 , 4870.205, 6750.315,\n",
       "       4364.9  , 4240.395, 6725.535, 2253.745, 4277.125, 5358.775,\n",
       "       3528.28 , 2824.915, 4239.06 , 4205.035, 6740.415, 6550.19 ,\n",
       "       3387.935, 6534.615, 5207.66 , 4558.72 , 6271.565, 7840.405,\n",
       "       5214.455, 6850.115, 6931.135, 1750.765, 4971.355, 4206.445,\n",
       "       7490.185, 1156.235, 6967.585, 4618.72 , 6848.215, 7232.06 ,\n",
       "       5715.7  , 2624.545, 5965.495, 4719.805, 7235.15 , 6135.73 ,\n",
       "       6235.765, 5968.395, 4384.21 , 3330.16 , 3901.545, 7039.465,\n",
       "       4206.03 , 1612.65 , 5492.125, 5749.845, 7123.575, 2149.595,\n",
       "       6745.535, 1871.4  , 6953.385, 3108.775, 1721.76 , 4403.29 ,\n",
       "       3286.735,  890.835, 7389.11 , 4513.41 , 7080.2  , 2556.995,\n",
       "       4670.48 , 5363.355, 4327.74 , 7330.985, 6728.825, 4236.56 ,\n",
       "       1977.575, 6410.085, 4648.57 , 4891.405, 6761.94 , 2027.92 ,\n",
       "       1401.465, 4889.84 , 1539.92 , 6079.175, 2196.955, 4454.2  ,\n",
       "       4844.185, 1462.295, 3485.135, 4005.305, 2955.92 , 4944.77 ,\n",
       "       5170.73 , 2096.735, 3252.615, 3756.435, 4739.515, 6585.33 ,\n",
       "       3432.795, 6768.495, 2400.285, 6917.445, 3558.355, 1842.76 ,\n",
       "       4215.18 , 6641.01 , 3206.84 , 4678.345, 1589.25 , 6250.205,\n",
       "       4081.9  , 4512.69 , 3119.595, 1940.535, 2709.09 , 6331.94 ,\n",
       "       2406.025, 4799.475, 1391.35 , 3440.225, 7429.885, 1601.17 ,\n",
       "       3640.385, 4491.635, 2886.97 , 3465.575, 6210.38 , 4636.295,\n",
       "       7590.155, 4824.36 , 4769.82 , 6692.925, 5081.245, 4873.58 ,\n",
       "       7131.315, 6523.64 , 6799.85 , 2137.855, 6942.98 , 7006.69 ,\n",
       "       4727.005, 1151.74 , 3507.38 , 6786.275, 4728.435, 4446.395,\n",
       "       4427.04 , 1754.835, 3955.92 , 6150.08 , 3392.92 , 3564.855,\n",
       "       7414.775, 4810.435, 6459.775, 2889.345, 3399.405, 1971.005,\n",
       "       6457.885, 4056.095, 4452.315, 4642.485, 4500.675, 6121.875,\n",
       "       1296.79 , 3874.265, 2262.46 , 3481.32 , 3878.855, 3503.585,\n",
       "       2259.255])"
      ]
     },
     "execution_count": 72,
     "metadata": {},
     "output_type": "execute_result"
    }
   ],
   "source": [
    "#Cross validation prediction\n",
    "predict=cross_val_predict(rf,X_train,y_train,cv=3)\n",
    "predict"
   ]
  },
  {
   "cell_type": "code",
   "execution_count": 73,
   "id": "75f0e04a",
   "metadata": {},
   "outputs": [
    {
     "data": {
      "image/png": "[encoded data removed]",
      "text/plain": [
       "<Figure size 1080x576 with 1 Axes>"
      ]
     },
     "metadata": {},
     "output_type": "display_data"
    }
   ],
   "source": [
    "#Cross validation prediction plot\n",
    "fig,ax=plt.subplots(figsize=(15,8))\n",
    "ax.scatter(y_train,y_train-predict)\n",
    "ax.axhline(lw=2,color='black')\n",
    "ax.set_title('Cross validation prediction plot')\n",
    "ax.set_xlabel('Observed')\n",
    "ax.set_ylabel('Residual')\n",
    "plt.show()"
   ]
  },
  {
   "cell_type": "markdown",
   "id": "faf772b2",
   "metadata": {},
   "source": [
    "Cross validation prediction plot tells about finite variance between actual target value and predicted target value. In this plot,some data points are have same finite variance between them and for some are not have it."
   ]
  },
  {
   "cell_type": "code",
   "execution_count": 74,
   "id": "505b5b63",
   "metadata": {},
   "outputs": [
    {
     "name": "stdout",
     "output_type": "stream",
     "text": [
      "R-squared scores : 0.8465450097068735\n"
     ]
    }
   ],
   "source": [
    "#R-squared scores\n",
    "r2_scores = cross_val_score(rf, X_train, y_train, cv=3)\n",
    "print('R-squared scores :',np.average(r2_scores))"
   ]
  },
  {
   "cell_type": "markdown",
   "id": "ddff671d",
   "metadata": {},
   "source": [
    "The R-squared or coefficient of determination is 0.85 on average for 3-fold cross validation , it means that predictor is only able to predict 85% of the variance in the target variable which is contributed by independent variables."
   ]
  },
  {
   "cell_type": "code",
   "execution_count": 75,
   "id": "bf893033",
   "metadata": {},
   "outputs": [
    {
     "data": {
      "text/plain": [
       "array([6598.22 , 1534.78 , 3384.235, 5097.075, 7499.76 , 7212.61 ,\n",
       "       1493.125, 2377.95 , 7288.99 , 6432.69 , 2110.505, 2912.79 ,\n",
       "       4994.505, 4922.905, 2160.26 , 2087.105, 2295.15 , 7823.16 ,\n",
       "       4995.57 , 2443.685, 7471.495, 6088.705, 5887.055, 1762.725,\n",
       "       1773.785, 4704.47 , 1958.835, 7215.41 , 3246.67 , 5524.205,\n",
       "       2962.825, 4032.72 , 6658.265, 7337.57 , 6142.93 , 5431.75 ,\n",
       "       7209.985, 6242.525, 3201.1  ,  944.135, 3778.995, 3299.97 ,\n",
       "       7258.255, 4493.1  , 6941.31 , 2283.32 , 4312.9  , 5564.365,\n",
       "       6561.01 , 4207.105, 4272.185, 2894.27 , 2311.345, 4435.385,\n",
       "       4620.49 , 4234.305, 3504.915, 3827.69 , 4271.29 , 6559.01 ,\n",
       "       6230.68 , 6804.085, 2007.26 , 7363.06 , 6593.335, 6480.345,\n",
       "       5899.855, 4375.52 , 1919.56 , 7417.555, 3636.335, 1970.21 ,\n",
       "       3192.07 , 3833.295, 4296.615, 3937.965, 4746.11 , 4527.3  ,\n",
       "       1349.895, 4354.51 , 2615.405, 1939.565, 5099.63 , 4365.41 ,\n",
       "       3675.57 , 3518.79 , 4023.34 , 3724.425, 3500.74 , 3315.   ,\n",
       "       1351.49 , 7030.265, 5575.755, 5760.93 , 2794.105, 1993.91 ,\n",
       "       4781.73 , 2872.765, 3264.35 , 4863.625, 7484.05 , 4371.555,\n",
       "       6633.8  , 1847.035, 2506.62 , 5254.9  , 2212.93 , 3075.52 ,\n",
       "       6620.235, 1213.51 , 4445.92 , 6789.225, 3606.175, 7779.745,\n",
       "       5791.535, 4292.115, 1749.83 , 3192.78 , 5041.16 , 2351.79 ,\n",
       "       6630.865, 2625.44 , 3255.315, 1466.495, 4457.2  , 5005.91 ,\n",
       "       4228.355, 3304.745, 2124.385, 5991.14 , 3647.205, 3926.905,\n",
       "       4871.145, 5056.96 , 4927.385, 1895.875, 6208.06 , 6602.805,\n",
       "       1977.69 , 4553.465, 4615.49 , 2043.51 , 2096.18 , 4259.35 ,\n",
       "       3644.705, 5018.55 , 4379.995, 4804.445, 2684.515, 3650.835,\n",
       "       4684.735, 7293.13 , 4116.835, 4007.38 , 1531.065, 3828.78 ,\n",
       "       4036.74 , 6735.975, 2808.44 , 4608.505, 6217.84 , 3920.965,\n",
       "       3916.1  , 4864.33 , 1551.435, 3900.155, 6412.17 , 1821.895,\n",
       "       3587.835, 4504.6  , 6879.22 , 7250.   , 1490.   , 3459.395,\n",
       "       3810.105, 5811.07 , 3982.115, 6377.7  , 3552.205, 1782.285,\n",
       "       1596.24 , 7332.475, 7121.245, 5202.265, 6823.565, 7925.395,\n",
       "       7648.085, 2752.54 , 4493.56 , 1412.545, 7391.89 , 3765.275,\n",
       "       3957.51 , 6262.505, 1926.995, 1669.855, 3882.595, 3943.1  ,\n",
       "       1011.17 , 5076.885, 4616.125, 5727.235, 5096.465, 5167.22 ,\n",
       "       5130.235, 2924.15 , 7366.36 , 1948.82 , 6456.675, 6409.98 ,\n",
       "       6841.615, 3692.5  , 5596.515, 3053.41 , 4973.975, 3930.165,\n",
       "       7225.62 , 6771.88 , 3509.845, 3865.725])"
      ]
     },
     "execution_count": 75,
     "metadata": {},
     "output_type": "execute_result"
    }
   ],
   "source": [
    "#Model performance on test dataset\n",
    "\n",
    "#predict the model\n",
    "X_test=test_encoded_attributes\n",
    "rf_pred=rf.predict(X_test)\n",
    "rf_pred"
   ]
  },
  {
   "cell_type": "code",
   "execution_count": 76,
   "id": "fb9955de",
   "metadata": {},
   "outputs": [
    {
     "name": "stdout",
     "output_type": "stream",
     "text": [
      "Root mean square error : 651.0012811954995\n",
      "Mean absolute error : 429.8768636363637\n"
     ]
    }
   ],
   "source": [
    "#Root mean square error\n",
    "rmse = math.sqrt(metrics.mean_squared_error(y_test,rf_pred))\n",
    "print('Root mean square error :',rmse)\n",
    "#Mean absolute error\n",
    "mae=metrics.mean_absolute_error(y_test,rf_pred)\n",
    "print('Mean absolute error :',mae)"
   ]
  },
  {
   "cell_type": "code",
   "execution_count": 77,
   "id": "35b1e365",
   "metadata": {},
   "outputs": [
    {
     "data": {
      "image/png": "[encoded data removed]",
      "text/plain": [
       "<Figure size 1080x576 with 1 Axes>"
      ]
     },
     "metadata": {},
     "output_type": "display_data"
    }
   ],
   "source": [
    "#Residual scatter plot\n",
    "fig, ax = plt.subplots(figsize=(15,8))\n",
    "residuals=y_test-rf_pred\n",
    "ax.scatter(y_test, residuals)\n",
    "ax.axhline(lw=2,color='black')\n",
    "ax.set_xlabel('Observed')\n",
    "ax.set_ylabel('Residuals')\n",
    "ax.set_title('Residual plot')\n",
    "plt.show()"
   ]
  },
  {
   "cell_type": "markdown",
   "id": "2e9f9d99",
   "metadata": {},
   "source": [
    "Cross validation prediction plot tells about finite variance between actual target value and predicted target value.In this plot,some data points are have same finite variance between them and for some are not have it."
   ]
  },
  {
   "cell_type": "markdown",
   "id": "95b198be",
   "metadata": {},
   "source": [
    "### Final model for predicting the bike rental count on daily basis"
   ]
  },
  {
   "cell_type": "markdown",
   "id": "bad83d0a",
   "metadata": {},
   "source": [
    "When we compare the root mean squared error and mean absolute error of all 3 models, the random forest model has less root mean squared error and mean absolute error. So, finally random forest model is bset for predicting the bike rental count on daily basis."
   ]
  },
  {
   "cell_type": "code",
   "execution_count": 78,
   "id": "0daa92c0",
   "metadata": {},
   "outputs": [
    {
     "data": {
      "text/html": [
       "<div>\n",
       "<style scoped>\n",
       "    .dataframe tbody tr th:only-of-type {\n",
       "        vertical-align: middle;\n",
       "    }\n",
       "\n",
       "    .dataframe tbody tr th {\n",
       "        vertical-align: top;\n",
       "    }\n",
       "\n",
       "    .dataframe thead th {\n",
       "        text-align: right;\n",
       "    }\n",
       "</style>\n",
       "<table border=\"1\" class=\"dataframe\">\n",
       "  <thead>\n",
       "    <tr style=\"text-align: right;\">\n",
       "      <th></th>\n",
       "      <th>y_test</th>\n",
       "      <th>rf_pred</th>\n",
       "    </tr>\n",
       "  </thead>\n",
       "  <tbody>\n",
       "    <tr>\n",
       "      <th>0</th>\n",
       "      <td>6606</td>\n",
       "      <td>6598.220</td>\n",
       "    </tr>\n",
       "    <tr>\n",
       "      <th>1</th>\n",
       "      <td>1550</td>\n",
       "      <td>1534.780</td>\n",
       "    </tr>\n",
       "    <tr>\n",
       "      <th>2</th>\n",
       "      <td>3747</td>\n",
       "      <td>3384.235</td>\n",
       "    </tr>\n",
       "    <tr>\n",
       "      <th>3</th>\n",
       "      <td>6041</td>\n",
       "      <td>5097.075</td>\n",
       "    </tr>\n",
       "    <tr>\n",
       "      <th>4</th>\n",
       "      <td>7538</td>\n",
       "      <td>7499.760</td>\n",
       "    </tr>\n",
       "    <tr>\n",
       "      <th>...</th>\n",
       "      <td>...</td>\n",
       "      <td>...</td>\n",
       "    </tr>\n",
       "    <tr>\n",
       "      <th>215</th>\n",
       "      <td>2659</td>\n",
       "      <td>3930.165</td>\n",
       "    </tr>\n",
       "    <tr>\n",
       "      <th>216</th>\n",
       "      <td>7338</td>\n",
       "      <td>7225.620</td>\n",
       "    </tr>\n",
       "    <tr>\n",
       "      <th>217</th>\n",
       "      <td>6978</td>\n",
       "      <td>6771.880</td>\n",
       "    </tr>\n",
       "    <tr>\n",
       "      <th>218</th>\n",
       "      <td>4795</td>\n",
       "      <td>3509.845</td>\n",
       "    </tr>\n",
       "    <tr>\n",
       "      <th>219</th>\n",
       "      <td>3855</td>\n",
       "      <td>3865.725</td>\n",
       "    </tr>\n",
       "  </tbody>\n",
       "</table>\n",
       "<p>220 rows × 2 columns</p>\n",
       "</div>"
      ],
      "text/plain": [
       "     y_test   rf_pred\n",
       "0      6606  6598.220\n",
       "1      1550  1534.780\n",
       "2      3747  3384.235\n",
       "3      6041  5097.075\n",
       "4      7538  7499.760\n",
       "..      ...       ...\n",
       "215    2659  3930.165\n",
       "216    7338  7225.620\n",
       "217    6978  6771.880\n",
       "218    4795  3509.845\n",
       "219    3855  3865.725\n",
       "\n",
       "[220 rows x 2 columns]"
      ]
     },
     "execution_count": 78,
     "metadata": {},
     "output_type": "execute_result"
    }
   ],
   "source": [
    "Bike_df1=pd.DataFrame(y_test,columns=['y_test'])\n",
    "Bike_df2=pd.DataFrame(rf_pred,columns=['rf_pred'])\n",
    "Bike_predictions=pd.merge(Bike_df1,Bike_df2,left_index=True,right_index=True)\n",
    "Bike_predictions.to_csv('Bike_Renting_Python.csv')\n",
    "Bike_predictions"
   ]
  },
  {
   "cell_type": "code",
   "execution_count": null,
   "id": "2806c060",
   "metadata": {},
   "outputs": [],
   "source": []
  }
 ],
 "metadata": {
  "kernelspec": {
   "display_name": "Python 3 (ipykernel)",
   "language": "python",
   "name": "python3"
  },
  "language_info": {
   "codemirror_mode": {
    "name": "ipython",
    "version": 3
   },
   "file_extension": ".py",
   "mimetype": "text/x-python",
   "name": "python",
   "nbconvert_exporter": "python",
   "pygments_lexer": "ipython3",
   "version": "3.9.12"
  }
 },
 "nbformat": 4,
 "nbformat_minor": 5
}
